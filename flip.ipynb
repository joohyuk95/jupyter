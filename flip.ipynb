{
 "cells": [
  {
   "cell_type": "code",
   "execution_count": 2,
   "id": "2ada46d3",
   "metadata": {},
   "outputs": [],
   "source": [
    "import cv2\n",
    "\n",
    "img = cv2.imread('./data/lena.jpg')\n",
    "\n",
    "img1 = cv2.flip(img, 1)\n",
    "img2 = cv2.flip(img, 0)\n",
    "img3 = cv2.flip(img1, 0)\n",
    "\n",
    "cv2.imshow('source', img)\n",
    "cv2.imshow('left and right',img1)\n",
    "cv2.imshow('up and down',img2)\n",
    "cv2.imshow('LR and UD',img3)\n",
    "\n",
    "cv2.waitKey()\n",
    "cv2.destroyAllWindows()"
   ]
  }
 ],
 "metadata": {
  "kernelspec": {
   "display_name": "Python 3",
   "language": "python",
   "name": "python3"
  },
  "language_info": {
   "codemirror_mode": {
    "name": "ipython",
    "version": 3
   },
   "file_extension": ".py",
   "mimetype": "text/x-python",
   "name": "python",
   "nbconvert_exporter": "python",
   "pygments_lexer": "ipython3",
   "version": "3.7.10"
  }
 },
 "nbformat": 4,
 "nbformat_minor": 5
}
