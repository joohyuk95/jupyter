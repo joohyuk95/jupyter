{
 "cells": [
  {
   "cell_type": "code",
   "execution_count": 5,
   "id": "2b1121f0",
   "metadata": {},
   "outputs": [],
   "source": [
    "import cv2"
   ]
  },
  {
   "cell_type": "code",
   "execution_count": 6,
   "id": "eab8e72e",
   "metadata": {},
   "outputs": [],
   "source": [
    "imageFile = './data/lena.jpg'"
   ]
  },
  {
   "cell_type": "code",
   "execution_count": 7,
   "id": "7e0ce422",
   "metadata": {},
   "outputs": [],
   "source": [
    "img = cv2.imread(imageFile)\n",
    "img3 = cv2.imread(imageFile, 0)"
   ]
  },
  {
   "cell_type": "code",
   "execution_count": 8,
   "id": "8e9b2fc4",
   "metadata": {},
   "outputs": [],
   "source": [
    "cv2.imshow('Lena color', img3)\n",
    "cv2.waitKey()\n",
    "cv2.destroyAllWindows()"
   ]
  }
 ],
 "metadata": {
  "kernelspec": {
   "display_name": "Python 3",
   "language": "python",
   "name": "python3"
  },
  "language_info": {
   "codemirror_mode": {
    "name": "ipython",
    "version": 3
   },
   "file_extension": ".py",
   "mimetype": "text/x-python",
   "name": "python",
   "nbconvert_exporter": "python",
   "pygments_lexer": "ipython3",
   "version": "3.7.10"
  }
 },
 "nbformat": 4,
 "nbformat_minor": 5
}
