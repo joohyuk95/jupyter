{
 "cells": [
  {
   "cell_type": "code",
   "execution_count": 4,
   "id": "51446a4d",
   "metadata": {},
   "outputs": [
    {
     "data": {
      "text/plain": [
       "True"
      ]
     },
     "execution_count": 4,
     "metadata": {},
     "output_type": "execute_result"
    }
   ],
   "source": [
    "import cv2\n",
    "imageFile = './data/lena.jpg'\n",
    "\n",
    "img = cv2.imread(imageFile)\n",
    "cv2.imwrite('./lena.bmp', img)\n",
    "cv2.imwrite('./lena.png', img)\n",
    "cv2.imwrite('./lena2.png', img, [cv2.IMWRITE_PNG_COMPRESSION, 9])\n",
    "cv2.imwrite('./lena2.jpg', img, [cv2.IMWRITE_JPEG_QUALITY, 90])"
   ]
  }
 ],
 "metadata": {
  "kernelspec": {
   "display_name": "Python 3",
   "language": "python",
   "name": "python3"
  },
  "language_info": {
   "codemirror_mode": {
    "name": "ipython",
    "version": 3
   },
   "file_extension": ".py",
   "mimetype": "text/x-python",
   "name": "python",
   "nbconvert_exporter": "python",
   "pygments_lexer": "ipython3",
   "version": "3.7.10"
  }
 },
 "nbformat": 4,
 "nbformat_minor": 5
}
