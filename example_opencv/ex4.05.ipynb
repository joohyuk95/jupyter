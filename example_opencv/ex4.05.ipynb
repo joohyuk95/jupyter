{
 "cells": [
  {
   "cell_type": "code",
   "execution_count": 5,
   "id": "c196aa27",
   "metadata": {},
   "outputs": [],
   "source": [
    "import cv2"
   ]
  },
  {
   "cell_type": "code",
   "execution_count": 6,
   "id": "854a604f",
   "metadata": {},
   "outputs": [],
   "source": [
    "img = cv2.imread('../data/lena.jpg')"
   ]
  },
  {
   "cell_type": "code",
   "execution_count": 7,
   "id": "d19523bf",
   "metadata": {},
   "outputs": [],
   "source": [
    "img[100:200, 100:200] = [255, 0, 0]\n",
    "img[200:300, 200:300] = [0, 255, 0]\n",
    "img[300:400, 300:400] = [0, 0, 255]"
   ]
  },
  {
   "cell_type": "code",
   "execution_count": 8,
   "id": "cfcbde91",
   "metadata": {},
   "outputs": [],
   "source": [
    "cv2.imshow('img', img)\n",
    "cv2.waitKey()\n",
    "cv2.destroyAllWindows()"
   ]
  }
 ],
 "metadata": {
  "kernelspec": {
   "display_name": "Python 3",
   "language": "python",
   "name": "python3"
  },
  "language_info": {
   "codemirror_mode": {
    "name": "ipython",
    "version": 3
   },
   "file_extension": ".py",
   "mimetype": "text/x-python",
   "name": "python",
   "nbconvert_exporter": "python",
   "pygments_lexer": "ipython3",
   "version": "3.7.10"
  }
 },
 "nbformat": 4,
 "nbformat_minor": 5
}
