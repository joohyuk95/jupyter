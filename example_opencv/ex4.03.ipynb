{
 "cells": [
  {
   "cell_type": "code",
   "execution_count": 3,
   "id": "01879f1a",
   "metadata": {},
   "outputs": [],
   "source": [
    "import cv2\n",
    "import numpy as np"
   ]
  },
  {
   "cell_type": "code",
   "execution_count": 4,
   "id": "d738af80",
   "metadata": {},
   "outputs": [],
   "source": [
    "img = cv2.imread('../data/lena.jpg', cv2.IMREAD_GRAYSCALE)"
   ]
  },
  {
   "cell_type": "code",
   "execution_count": 5,
   "id": "18ebe977",
   "metadata": {},
   "outputs": [
    {
     "data": {
      "text/plain": [
       "array([[  0, 143, 145, 132, 147, 144, 142, 139, 132, 138],\n",
       "       [138, 138, 143, 151, 137, 144, 139, 139, 138, 138],\n",
       "       [132, 139, 153, 140, 133, 136, 143, 138, 137, 128],\n",
       "       [137, 146, 138, 125, 132, 145, 139, 142, 130, 128],\n",
       "       [149, 139, 130, 137, 140, 145, 136, 133, 132, 141],\n",
       "       [141, 139, 134, 149, 149, 137, 132, 127, 140, 140],\n",
       "       [142, 148, 139, 142, 144, 138, 146, 135, 131, 130],\n",
       "       [151, 146, 136, 131, 142, 144, 149, 135, 126, 132],\n",
       "       [147, 131, 135, 138, 147, 139, 128, 125, 134, 138],\n",
       "       [135, 132, 149, 142, 134, 128, 122, 135, 138, 129]], dtype=uint8)"
      ]
     },
     "execution_count": 5,
     "metadata": {},
     "output_type": "execute_result"
    }
   ],
   "source": [
    "img[100, 200] = 0\n",
    "img[100:110, 200:210]"
   ]
  },
  {
   "cell_type": "code",
   "execution_count": 6,
   "id": "27653f07",
   "metadata": {},
   "outputs": [],
   "source": [
    "img[100:400, 200:300] = 0"
   ]
  },
  {
   "cell_type": "code",
   "execution_count": 7,
   "id": "0f8bfc9e",
   "metadata": {},
   "outputs": [],
   "source": [
    "cv2.imshow('img', img)\n",
    "cv2.waitKey()\n",
    "cv2.destroyAllWindows()"
   ]
  }
 ],
 "metadata": {
  "kernelspec": {
   "display_name": "Python 3",
   "language": "python",
   "name": "python3"
  },
  "language_info": {
   "codemirror_mode": {
    "name": "ipython",
    "version": 3
   },
   "file_extension": ".py",
   "mimetype": "text/x-python",
   "name": "python",
   "nbconvert_exporter": "python",
   "pygments_lexer": "ipython3",
   "version": "3.7.10"
  }
 },
 "nbformat": 4,
 "nbformat_minor": 5
}
