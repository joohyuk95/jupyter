{
 "cells": [
  {
   "cell_type": "code",
   "execution_count": 2,
   "id": "85c8dfe4",
   "metadata": {},
   "outputs": [],
   "source": [
    "import cv2\n",
    "import numpy as np"
   ]
  },
  {
   "cell_type": "code",
   "execution_count": 3,
   "id": "640444cc",
   "metadata": {},
   "outputs": [],
   "source": [
    "src = cv2.imread('../data/lena.jpg', cv2.IMREAD_GRAYSCALE)"
   ]
  },
  {
   "cell_type": "code",
   "execution_count": 4,
   "id": "9c6f8525",
   "metadata": {},
   "outputs": [],
   "source": [
    "edges1 = cv2.Canny(src, 50, 100)\n",
    "edges2 = cv2.Canny(src, 50, 200)"
   ]
  },
  {
   "cell_type": "code",
   "execution_count": 5,
   "id": "2ee0e301",
   "metadata": {},
   "outputs": [],
   "source": [
    "cv2.imshow('edges1', edges1)\n",
    "cv2.imshow('edges2', edges2)\n",
    "cv2.waitKey()\n",
    "cv2.destroyAllWindows()"
   ]
  }
 ],
 "metadata": {
  "kernelspec": {
   "display_name": "Python 3",
   "language": "python",
   "name": "python3"
  },
  "language_info": {
   "codemirror_mode": {
    "name": "ipython",
    "version": 3
   },
   "file_extension": ".py",
   "mimetype": "text/x-python",
   "name": "python",
   "nbconvert_exporter": "python",
   "pygments_lexer": "ipython3",
   "version": "3.7.10"
  }
 },
 "nbformat": 4,
 "nbformat_minor": 5
}
