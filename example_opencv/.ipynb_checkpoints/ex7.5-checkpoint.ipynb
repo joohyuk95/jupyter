{
 "cells": [
  {
   "cell_type": "code",
   "execution_count": null,
   "id": "66c278f7",
   "metadata": {},
   "outputs": [],
   "source": [
    "import cv2\n",
    "import numpy as np\n",
    "\n",
    "src1 = cv2.imread('../data/hand.jpg')\n",
    "hsv1 = cv2.cvtColor(src1, cv2.COLOR_BGR2HSV)\n",
    "lowerb1 = (0, 40, 0)\n",
    "upperb1 = (20, 180, 255)\n",
    "dst1 = cv2.inRange(hsv1, lowerb1, upperb1)\n",
    "\n",
    "src2 = cv2.imread('../data/flower.jpg')\n",
    "hsv2 = cv2.cvtColor(src2, cv2.COLOR_BGR2HSV)\n",
    "lowerb2 = (150, 100, 100)\n",
    "upperb2 = (180, 255, 255)\n",
    "dst2 = cv2.inRange(hsv2, lowerb2, upperb2)\n",
    "\n",
    "cv2.imshow('hsv1', hsv1)\n",
    "cv2.imshow('hsv2', hsv2)\n",
    "cv2.imshow('src1', src1)\n",
    "cv2.imshow('dst1', dst1)\n",
    "cv2.imshow('src2', src2)\n",
    "cv2.imshow('dst2', dst2)\n",
    "cv2.waitKey()\n",
    "cv2.destroyAllWindows()"
   ]
  }
 ],
 "metadata": {
  "kernelspec": {
   "display_name": "Python 3",
   "language": "python",
   "name": "python3"
  },
  "language_info": {
   "codemirror_mode": {
    "name": "ipython",
    "version": 3
   },
   "file_extension": ".py",
   "mimetype": "text/x-python",
   "name": "python",
   "nbconvert_exporter": "python",
   "pygments_lexer": "ipython3",
   "version": "3.7.10"
  }
 },
 "nbformat": 4,
 "nbformat_minor": 5
}
