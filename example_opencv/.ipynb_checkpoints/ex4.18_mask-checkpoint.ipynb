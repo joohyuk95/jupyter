{
 "cells": [
  {
   "cell_type": "code",
   "execution_count": 2,
   "id": "90217577",
   "metadata": {},
   "outputs": [],
   "source": [
    "import cv2\n",
    "import numpy as np"
   ]
  },
  {
   "cell_type": "code",
   "execution_count": 3,
   "id": "97cb5616",
   "metadata": {},
   "outputs": [],
   "source": [
    "src1 = cv2.imread('../data/lena.jpg')\n",
    "src2 = cv2.imread('../data/opencv_logo.png')\n",
    "cv2.imshow('src2', src2)"
   ]
  },
  {
   "cell_type": "code",
   "execution_count": 4,
   "id": "8e6455ef",
   "metadata": {},
   "outputs": [],
   "source": [
    "rows, cols, channels = src2.shape\n",
    "roi = src1[0:rows, 0:cols]"
   ]
  },
  {
   "cell_type": "code",
   "execution_count": 5,
   "id": "c7046472",
   "metadata": {},
   "outputs": [],
   "source": [
    "gray = cv2.cvtColor(src2, cv2.COLOR_BGR2GRAY)\n",
    "ret, mask = cv2.threshold(gray, 160, 255, cv2.THRESH_BINARY)\n",
    "mask_inv = cv2.bitwise_not(mask)\n",
    "cv2.imshow('mask', mask)\n",
    "cv2.imshow('mask_inv', mask_inv)"
   ]
  },
  {
   "cell_type": "code",
   "execution_count": 6,
   "id": "5f0cf6b4",
   "metadata": {},
   "outputs": [],
   "source": [
    "src1_bg = cv2.bitwise_and(roi, roi, mask = mask)\n",
    "cv2.imshow('src1_bg', src1_bg)"
   ]
  },
  {
   "cell_type": "code",
   "execution_count": 7,
   "id": "bcc26421",
   "metadata": {},
   "outputs": [],
   "source": [
    "src2_fg = cv2.bitwise_and(src2, src2, mask = mask_inv)\n",
    "cv2.imshow('src2_fg', src2_fg)"
   ]
  },
  {
   "cell_type": "code",
   "execution_count": 8,
   "id": "0c05ee2d",
   "metadata": {},
   "outputs": [],
   "source": [
    "dst = cv2.bitwise_or(src1_bg, src2_fg)\n",
    "cv2.imshow('dst', dst)"
   ]
  },
  {
   "cell_type": "code",
   "execution_count": 9,
   "id": "fc11adc7",
   "metadata": {},
   "outputs": [],
   "source": [
    "src1[0:rows, 0:cols] = dst"
   ]
  },
  {
   "cell_type": "code",
   "execution_count": 10,
   "id": "ecd8f97b",
   "metadata": {},
   "outputs": [],
   "source": [
    "cv2.imshow('result', src1)\n",
    "cv2.waitKey(0)\n",
    "cv2.destroyAllWindows()"
   ]
  }
 ],
 "metadata": {
  "kernelspec": {
   "display_name": "Python 3",
   "language": "python",
   "name": "python3"
  },
  "language_info": {
   "codemirror_mode": {
    "name": "ipython",
    "version": 3
   },
   "file_extension": ".py",
   "mimetype": "text/x-python",
   "name": "python",
   "nbconvert_exporter": "python",
   "pygments_lexer": "ipython3",
   "version": "3.7.10"
  }
 },
 "nbformat": 4,
 "nbformat_minor": 5
}
