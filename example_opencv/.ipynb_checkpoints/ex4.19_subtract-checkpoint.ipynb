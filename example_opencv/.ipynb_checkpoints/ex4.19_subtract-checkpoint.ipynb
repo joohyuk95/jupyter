{
 "cells": [
  {
   "cell_type": "code",
   "execution_count": 15,
   "id": "066d4ee6",
   "metadata": {},
   "outputs": [],
   "source": [
    "import cv2\n",
    "import numpy as np"
   ]
  },
  {
   "cell_type": "code",
   "execution_count": 16,
   "id": "ee7c4a63",
   "metadata": {},
   "outputs": [],
   "source": [
    "src1 = cv2.imread('../data/lena.jpg', cv2.IMREAD_GRAYSCALE)\n",
    "src2 = np.zeros(shape = (512, 512), dtype = np.uint8) + 255"
   ]
  },
  {
   "cell_type": "code",
   "execution_count": 17,
   "id": "3f2df2ad",
   "metadata": {},
   "outputs": [
    {
     "data": {
      "text/plain": [
       "0"
      ]
     },
     "execution_count": 17,
     "metadata": {},
     "output_type": "execute_result"
    }
   ],
   "source": [
    "dst1 = 255 - src1\n",
    "dst2 = cv2.subtract(src2, src1)\n",
    "dst3 = cv2.compare(dst1, dst2, cv2.CMP_NE)\n",
    "n = cv2.countNonZero(dst3)\n",
    "n"
   ]
  },
  {
   "cell_type": "code",
   "execution_count": 10,
   "id": "cefa38f5",
   "metadata": {},
   "outputs": [],
   "source": [
    "cv2.imshow('dst1', dst1)\n",
    "cv2.imshow('dst2', dst2)\n",
    "cv2.waitKey()\n",
    "cv2.destroyAllWindows()"
   ]
  }
 ],
 "metadata": {
  "kernelspec": {
   "display_name": "Python 3",
   "language": "python",
   "name": "python3"
  },
  "language_info": {
   "codemirror_mode": {
    "name": "ipython",
    "version": 3
   },
   "file_extension": ".py",
   "mimetype": "text/x-python",
   "name": "python",
   "nbconvert_exporter": "python",
   "pygments_lexer": "ipython3",
   "version": "3.7.10"
  }
 },
 "nbformat": 4,
 "nbformat_minor": 5
}
