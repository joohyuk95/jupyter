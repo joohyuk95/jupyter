{
 "cells": [
  {
   "cell_type": "code",
   "execution_count": 6,
   "id": "a92a3518",
   "metadata": {},
   "outputs": [],
   "source": [
    "import cv2"
   ]
  },
  {
   "cell_type": "code",
   "execution_count": 7,
   "id": "2ddd945a",
   "metadata": {},
   "outputs": [],
   "source": [
    "src = cv2.imread('../data/lena.jpg', cv2.IMREAD_GRAYSCALE)"
   ]
  },
  {
   "cell_type": "code",
   "execution_count": 8,
   "id": "d0e64282",
   "metadata": {},
   "outputs": [],
   "source": [
    "#dst = src   --> shallow copy\n",
    "dst = src.copy() # --> deep copy\n",
    "dst[100:400, 200:300] = 0 # shallow copy 하면 포인터로 같은걸 가리킴 그래서 복사본 바꿔도 원본이 같이 바뀐다."
   ]
  },
  {
   "cell_type": "code",
   "execution_count": null,
   "id": "b3df847f",
   "metadata": {},
   "outputs": [],
   "source": [
    "cv2.imshow('src', src)\n",
    "cv2.imshow('dst', dst)\n",
    "cv2.waitKey()\n",
    "cv2.destroyAllWindows()"
   ]
  }
 ],
 "metadata": {
  "kernelspec": {
   "display_name": "Python 3",
   "language": "python",
   "name": "python3"
  },
  "language_info": {
   "codemirror_mode": {
    "name": "ipython",
    "version": 3
   },
   "file_extension": ".py",
   "mimetype": "text/x-python",
   "name": "python",
   "nbconvert_exporter": "python",
   "pygments_lexer": "ipython3",
   "version": "3.7.10"
  }
 },
 "nbformat": 4,
 "nbformat_minor": 5
}
