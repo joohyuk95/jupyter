{
 "cells": [
  {
   "cell_type": "code",
   "execution_count": 1,
   "id": "f196e469",
   "metadata": {},
   "outputs": [],
   "source": [
    "import cv2\n",
    "import numpy as np"
   ]
  },
  {
   "cell_type": "code",
   "execution_count": 2,
   "id": "356b26c1",
   "metadata": {},
   "outputs": [],
   "source": [
    "src = cv2.imread('../data/dogdog.jpg')"
   ]
  },
  {
   "cell_type": "code",
   "execution_count": 3,
   "id": "0deb5d58",
   "metadata": {},
   "outputs": [],
   "source": [
    "dst1 = cv2.resize(src, dsize = (300, 300))\n",
    "dst2 = cv2.resize(src, dsize = (0, 0), fx = 0.8, fy = 1.3)\n",
    "dst3 = cv2.rotate(src, cv2.ROTATE_90_COUNTERCLOCKWISE)"
   ]
  },
  {
   "cell_type": "code",
   "execution_count": 4,
   "id": "6e0469d8",
   "metadata": {},
   "outputs": [],
   "source": [
    "cv2.imshow('dst1', dst1)\n",
    "cv2.imshow('dst2', dst2)\n",
    "cv2.imshow('dst3', dst3)\n",
    "cv2.waitKey()\n",
    "cv2.destroyAllWindows()"
   ]
  }
 ],
 "metadata": {
  "kernelspec": {
   "display_name": "Python 3",
   "language": "python",
   "name": "python3"
  },
  "language_info": {
   "codemirror_mode": {
    "name": "ipython",
    "version": 3
   },
   "file_extension": ".py",
   "mimetype": "text/x-python",
   "name": "python",
   "nbconvert_exporter": "python",
   "pygments_lexer": "ipython3",
   "version": "3.7.10"
  }
 },
 "nbformat": 4,
 "nbformat_minor": 5
}
