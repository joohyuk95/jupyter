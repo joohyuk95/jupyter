{
 "cells": [
  {
   "cell_type": "code",
   "execution_count": 3,
   "id": "538461a3",
   "metadata": {},
   "outputs": [],
   "source": [
    "import cv2\n",
    "import sys\n",
    "from PyQt5.QtWidgets import QApplication, QLabel, QWidget, QPushButton, QVBoxLayout"
   ]
  },
  {
   "cell_type": "code",
   "execution_count": null,
   "id": "83014949",
   "metadata": {},
   "outputs": [],
   "source": [
    "# img1 = cv2.imread('../data/lena.jpg')\n",
    "# img2 = cv2.imread('../data/lena.jpg', cv2.IMREAD_GRAYSCALE)\n",
    "\n",
    "# cv2.imshow(img1)"
   ]
  },
  {
   "cell_type": "code",
   "execution_count": null,
   "id": "af256a77",
   "metadata": {},
   "outputs": [],
   "source": [
    "\n",
    "class MyApp(QWidget):\n",
    "\n",
    "    def __init__(self):\n",
    "        super().__init__()\n",
    "        self.initUI()\n",
    "    \n",
    "    def initUI(self):\n",
    "        label = QLabel()\n",
    "        firstButton = QPushButton('1')\n",
    "        secondButton = QPushButton('2')\n",
    "\n",
    "        vbox = QVBoxLayout()\n",
    "        vbox.addWidget(label)\n",
    "        vbox.addWidget(firstButton)\n",
    "        vbox.addWidget(secondButton)\n",
    "        \n",
    "        self.setLayout(vbox)\n",
    "        \n",
    "        self.setWindowTitle('image change')\n",
    "        self.setGeometry(300, 300, 400, 600)\n",
    "        self.show()\n",
    "\n",
    "if __name__ == '__main__':\n",
    "    app = QApplication(sys.argv)\n",
    "    ex = MyApp()\n",
    "    sys.exit(app.exec_())"
   ]
  }
 ],
 "metadata": {
  "kernelspec": {
   "display_name": "Python 3",
   "language": "python",
   "name": "python3"
  },
  "language_info": {
   "codemirror_mode": {
    "name": "ipython",
    "version": 3
   },
   "file_extension": ".py",
   "mimetype": "text/x-python",
   "name": "python",
   "nbconvert_exporter": "python",
   "pygments_lexer": "ipython3",
   "version": "3.7.10"
  }
 },
 "nbformat": 4,
 "nbformat_minor": 5
}
