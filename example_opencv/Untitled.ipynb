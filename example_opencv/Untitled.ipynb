{
 "cells": [
  {
   "cell_type": "code",
   "execution_count": null,
   "id": "eb64ee82",
   "metadata": {},
   "outputs": [],
   "source": [
    "import sys\n",
    "from PyQt5.QtWidgets import QApplication, QWidget, QLabel, QVBoxLayout\n",
    "from PyQt5.QtGui import QPixmap\n",
    "from PyQt5.QtCore import Qt\n",
    "\n",
    "class MyApp(QWidget):\n",
    "\n",
    "    def __init__(self):\n",
    "        super().__init__()\n",
    "        self.initUI\n",
    "    \n",
    "    def initUI(self):\n",
    "        pixmap = QPixmap('../data/lena.jpg')\n",
    "\n",
    "        lbl_img = QLabel()\n",
    "        lbl_img.setPixmap(pixmap)\n",
    "\n",
    "        vbox = QVBoxLayout()\n",
    "        vbox.addWidget(lbl_img)\n",
    "        self.setLayout(vbox)\n",
    "\n",
    "        self.setWindowTitle('QPixmap')\n",
    "        self.move(300, 300)\n",
    "        self.show()\n",
    "\n",
    "if __name__ == '__main__':\n",
    "    app = QApplication(sys.argv)\n",
    "    ex = MyApp()\n",
    "    sys.exit(app.exec_())"
   ]
  },
  {
   "cell_type": "code",
   "execution_count": 1,
   "id": "bbcc2021",
   "metadata": {},
   "outputs": [
    {
     "ename": "SystemExit",
     "evalue": "0",
     "output_type": "error",
     "traceback": [
      "An exception has occurred, use %tb to see the full traceback.\n",
      "\u001b[1;31mSystemExit\u001b[0m\u001b[1;31m:\u001b[0m 0\n"
     ]
    },
    {
     "name": "stderr",
     "output_type": "stream",
     "text": [
      "C:\\Users\\user\\anaconda3\\envs\\edge1\\lib\\site-packages\\IPython\\core\\interactiveshell.py:3445: UserWarning: To exit: use 'exit', 'quit', or Ctrl-D.\n",
      "  warn(\"To exit: use 'exit', 'quit', or Ctrl-D.\", stacklevel=1)\n"
     ]
    }
   ],
   "source": [
    "import sys\n",
    "from PyQt5.QtWidgets import QApplication, QWidget, QLabel, QVBoxLayout\n",
    "from PyQt5.QtGui import QPixmap\n",
    "from PyQt5.QtCore import Qt\n",
    "\n",
    "\n",
    "class MyApp(QWidget):\n",
    "\n",
    "    def __init__(self):\n",
    "        super().__init__()\n",
    "        self.initUI()\n",
    "\n",
    "    def initUI(self):\n",
    "        pixmap = QPixmap('../data/lena.jpg')\n",
    "\n",
    "        lbl_img = QLabel()\n",
    "        lbl_img.setPixmap(pixmap)\n",
    "        #lbl_size = QLabel('Width: '+str(pixmap.width())+', Height: '+str(pixmap.height()))\n",
    "        #lbl_size.setAlignment(Qt.AlignCenter)\n",
    "\n",
    "        vbox = QVBoxLayout()\n",
    "        vbox.addWidget(lbl_img)\n",
    "        #vbox.addWidget(lbl_size)\n",
    "        self.setLayout(vbox)\n",
    "\n",
    "        self.setWindowTitle('QPixmap')\n",
    "        self.move(300, 300)\n",
    "        self.show()\n",
    "\n",
    "\n",
    "if __name__ == '__main__':\n",
    "    app = QApplication(sys.argv)\n",
    "    ex = MyApp()\n",
    "    sys.exit(app.exec_())"
   ]
  }
 ],
 "metadata": {
  "kernelspec": {
   "display_name": "Python 3",
   "language": "python",
   "name": "python3"
  },
  "language_info": {
   "codemirror_mode": {
    "name": "ipython",
    "version": 3
   },
   "file_extension": ".py",
   "mimetype": "text/x-python",
   "name": "python",
   "nbconvert_exporter": "python",
   "pygments_lexer": "ipython3",
   "version": "3.7.10"
  }
 },
 "nbformat": 4,
 "nbformat_minor": 5
}
