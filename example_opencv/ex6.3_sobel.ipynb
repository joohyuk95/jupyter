{
 "cells": [
  {
   "cell_type": "code",
   "execution_count": 2,
   "id": "10797324",
   "metadata": {},
   "outputs": [],
   "source": [
    "import cv2\n",
    "import numpy as np"
   ]
  },
  {
   "cell_type": "code",
   "execution_count": 3,
   "id": "87e9318b",
   "metadata": {},
   "outputs": [],
   "source": [
    "src = cv2.imread('../data/rect.jpg', cv2.IMREAD_GRAYSCALE)\n",
    "\n",
    "gx = cv2.Sobel(src, cv2.CV_32F, 1, 0, ksize = 3)\n",
    "gy = cv2.Sobel(src, cv2.CV_32F, 0, 1, ksize = 3)"
   ]
  },
  {
   "cell_type": "code",
   "execution_count": 5,
   "id": "933b4faf",
   "metadata": {},
   "outputs": [],
   "source": [
    "dstX = cv2.sqrt(np.abs(gx))\n",
    "dstX = cv2.normalize(dstX, None, 0, 255, cv2.NORM_MINMAX, dtype = cv2.CV_8U)"
   ]
  },
  {
   "cell_type": "code",
   "execution_count": 6,
   "id": "7bb665a2",
   "metadata": {},
   "outputs": [],
   "source": [
    "dstY = cv2.sqrt(np.abs(gy))\n",
    "dstY = cv2.normalize(dstY, None, 0, 255, cv2.NORM_MINMAX, dtype = cv2.CV_8U)"
   ]
  },
  {
   "cell_type": "code",
   "execution_count": 8,
   "id": "446dccbd",
   "metadata": {},
   "outputs": [
    {
     "name": "stdout",
     "output_type": "stream",
     "text": [
      "mag: 0.0 1053.8966064453125 (0, 0) (356, 328)\n"
     ]
    }
   ],
   "source": [
    "mag = cv2.magnitude(gx, gy)\n",
    "minVal, maxVal, minLoc, maxLoc = cv2.minMaxLoc(mag)\n",
    "print('mag:', minVal, maxVal, minLoc, maxLoc)"
   ]
  },
  {
   "cell_type": "code",
   "execution_count": 9,
   "id": "f473fed5",
   "metadata": {},
   "outputs": [],
   "source": [
    "dstM = cv2.normalize(mag, None, 0, 255, cv2.NORM_MINMAX, dtype = cv2.CV_8U)"
   ]
  },
  {
   "cell_type": "code",
   "execution_count": 10,
   "id": "5c13db4a",
   "metadata": {},
   "outputs": [],
   "source": [
    "cv2.imshow('src', src)\n",
    "cv2.imshow('dstX', dstX)\n",
    "cv2.imshow('dstY', dstY)\n",
    "cv2.imshow('dstM', dstM)\n",
    "cv2.waitKey()\n",
    "cv2.destroyAllWindows()"
   ]
  }
 ],
 "metadata": {
  "kernelspec": {
   "display_name": "Python 3",
   "language": "python",
   "name": "python3"
  },
  "language_info": {
   "codemirror_mode": {
    "name": "ipython",
    "version": 3
   },
   "file_extension": ".py",
   "mimetype": "text/x-python",
   "name": "python",
   "nbconvert_exporter": "python",
   "pygments_lexer": "ipython3",
   "version": "3.7.10"
  }
 },
 "nbformat": 4,
 "nbformat_minor": 5
}
