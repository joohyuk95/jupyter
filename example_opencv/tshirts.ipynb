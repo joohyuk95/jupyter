{
 "cells": [
  {
   "cell_type": "code",
   "execution_count": 1,
   "id": "32588b8d",
   "metadata": {},
   "outputs": [],
   "source": [
    "import cv2"
   ]
  },
  {
   "cell_type": "code",
   "execution_count": 8,
   "id": "e27448ae",
   "metadata": {},
   "outputs": [],
   "source": [
    "img = cv2.imread('../data/tshirts.jpg')\n",
    "\n",
    "img1 = img[100:550, :]\n",
    "img2 = img[550:1000, :]\n",
    "\n",
    "cv2.imshow('img1', img1)\n",
    "cv2.imshow('img2', img2)\n",
    "img1 = cv2.resize(img1, dsize = (400, 400))\n",
    "img2 = cv2.resize(img2, dsize = (400, 400))\n",
    "\n",
    "cv2.imshow('img3', img1)\n",
    "cv2.imshow('img4', img2)\n",
    "\n",
    "cv2.waitKey()\n",
    "cv2.destroyAllWindows()"
   ]
  }
 ],
 "metadata": {
  "kernelspec": {
   "display_name": "Python 3",
   "language": "python",
   "name": "python3"
  },
  "language_info": {
   "codemirror_mode": {
    "name": "ipython",
    "version": 3
   },
   "file_extension": ".py",
   "mimetype": "text/x-python",
   "name": "python",
   "nbconvert_exporter": "python",
   "pygments_lexer": "ipython3",
   "version": "3.7.10"
  }
 },
 "nbformat": 4,
 "nbformat_minor": 5
}
