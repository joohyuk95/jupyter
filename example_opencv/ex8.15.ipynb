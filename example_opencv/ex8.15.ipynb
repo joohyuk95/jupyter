{
 "cells": [
  {
   "cell_type": "code",
   "execution_count": 1,
   "id": "8f70c5bc",
   "metadata": {},
   "outputs": [],
   "source": [
    "import cv2\n",
    "import numpy as np"
   ]
  },
  {
   "cell_type": "code",
   "execution_count": 4,
   "id": "bbc4ef1c",
   "metadata": {},
   "outputs": [],
   "source": [
    "src = cv2.imread('../data/hand.jpg')\n",
    "hsv = cv2.cvtColor(src, cv2.COLOR_BGR2HSV)\n",
    "lowerb = (0, 40, 0)\n",
    "upperb = (20, 180, 255)\n",
    "bImage = cv2.inRange(hsv, lowerb, upperb)"
   ]
  },
  {
   "cell_type": "code",
   "execution_count": 5,
   "id": "b6edb194",
   "metadata": {},
   "outputs": [],
   "source": [
    "mode = cv2.RETR_EXTERNAL\n",
    "method = cv2.CHAIN_APPROX_SIMPLE\n",
    "image, contours, hierarchy = cv2.findContours(bImage, mode, method)"
   ]
  },
  {
   "cell_type": "code",
   "execution_count": 8,
   "id": "d0121068",
   "metadata": {},
   "outputs": [
    {
     "data": {
      "text/plain": [
       "array([[[173, 176, 174],\n",
       "        [173, 176, 174],\n",
       "        [172, 175, 173],\n",
       "        ...,\n",
       "        [175, 178, 176],\n",
       "        [175, 178, 176],\n",
       "        [175, 178, 176]],\n",
       "\n",
       "       [[172, 175, 173],\n",
       "        [172, 175, 173],\n",
       "        [172, 175, 173],\n",
       "        ...,\n",
       "        [175, 178, 176],\n",
       "        [174, 177, 175],\n",
       "        [174, 177, 175]],\n",
       "\n",
       "       [[171, 174, 172],\n",
       "        [171, 174, 172],\n",
       "        [172, 175, 173],\n",
       "        ...,\n",
       "        [175, 178, 176],\n",
       "        [174, 177, 175],\n",
       "        [174, 177, 175]],\n",
       "\n",
       "       ...,\n",
       "\n",
       "       [[162, 167, 165],\n",
       "        [163, 168, 166],\n",
       "        [164, 169, 167],\n",
       "        ...,\n",
       "        [165, 170, 168],\n",
       "        [165, 170, 168],\n",
       "        [165, 170, 168]],\n",
       "\n",
       "       [[162, 167, 165],\n",
       "        [163, 168, 166],\n",
       "        [164, 169, 167],\n",
       "        ...,\n",
       "        [165, 170, 168],\n",
       "        [165, 170, 168],\n",
       "        [165, 170, 168]],\n",
       "\n",
       "       [[163, 168, 166],\n",
       "        [163, 168, 166],\n",
       "        [163, 168, 166],\n",
       "        ...,\n",
       "        [166, 171, 169],\n",
       "        [165, 170, 168],\n",
       "        [163, 168, 166]]], dtype=uint8)"
      ]
     },
     "execution_count": 8,
     "metadata": {},
     "output_type": "execute_result"
    }
   ],
   "source": [
    "dst = src.copy()\n",
    "cnt = contours[0]\n",
    "cv2.drawContours(dst, [cnt], 0, (255, 0, 0), 2)"
   ]
  },
  {
   "cell_type": "code",
   "execution_count": 9,
   "id": "311e6242",
   "metadata": {},
   "outputs": [
    {
     "data": {
      "text/plain": [
       "array([[[173, 176, 174],\n",
       "        [173, 176, 174],\n",
       "        [172, 175, 173],\n",
       "        ...,\n",
       "        [175, 178, 176],\n",
       "        [175, 178, 176],\n",
       "        [175, 178, 176]],\n",
       "\n",
       "       [[172, 175, 173],\n",
       "        [172, 175, 173],\n",
       "        [172, 175, 173],\n",
       "        ...,\n",
       "        [175, 178, 176],\n",
       "        [174, 177, 175],\n",
       "        [174, 177, 175]],\n",
       "\n",
       "       [[171, 174, 172],\n",
       "        [171, 174, 172],\n",
       "        [172, 175, 173],\n",
       "        ...,\n",
       "        [175, 178, 176],\n",
       "        [174, 177, 175],\n",
       "        [174, 177, 175]],\n",
       "\n",
       "       ...,\n",
       "\n",
       "       [[162, 167, 165],\n",
       "        [163, 168, 166],\n",
       "        [164, 169, 167],\n",
       "        ...,\n",
       "        [165, 170, 168],\n",
       "        [165, 170, 168],\n",
       "        [165, 170, 168]],\n",
       "\n",
       "       [[162, 167, 165],\n",
       "        [163, 168, 166],\n",
       "        [164, 169, 167],\n",
       "        ...,\n",
       "        [165, 170, 168],\n",
       "        [165, 170, 168],\n",
       "        [165, 170, 168]],\n",
       "\n",
       "       [[163, 168, 166],\n",
       "        [163, 168, 166],\n",
       "        [163, 168, 166],\n",
       "        ...,\n",
       "        [166, 171, 169],\n",
       "        [165, 170, 168],\n",
       "        [163, 168, 166]]], dtype=uint8)"
      ]
     },
     "execution_count": 9,
     "metadata": {},
     "output_type": "execute_result"
    }
   ],
   "source": [
    "dst2 = dst.copy()\n",
    "rows, cols = dst2.shape[:2]\n",
    "hull = cv2.convexHull(cnt, returnPoints = False)\n",
    "hull_points = cnt[hull[:, 0]]\n",
    "cv2.drawContours(dst2, [hull_points], 0, (255, 0, 255), 6)"
   ]
  },
  {
   "cell_type": "code",
   "execution_count": 11,
   "id": "863fe254",
   "metadata": {},
   "outputs": [
    {
     "name": "stdout",
     "output_type": "stream",
     "text": [
      "defects.shape =  (24, 1, 4)\n"
     ]
    }
   ],
   "source": [
    "T = 5\n",
    "defects = cv2.convexityDefects(cnt, hull)\n",
    "print('defects.shape = ', defects.shape)\n",
    "for i in range(defects.shape[0]):\n",
    "    s, e, f, d = defects[i, 0]\n",
    "    dist = d / 256\n",
    "    start = tuple(cnt[s][0])\n",
    "    end = tuple(cnt[e][0])\n",
    "    far = tuple(cnt[f][0])\n",
    "    \n",
    "    if dist > T:\n",
    "        cv2.line(dst2, start, end, [255, 255, 0], 2)\n",
    "        cv2.line(dst2, start, far, [0, 255, 0], 1)\n",
    "        cv2.line(dst2, end, far, [0, 255, 0], 1)\n",
    "        \n",
    "        cv2.circle(dst2, start, 5, [0, 255, 255], -1)\n",
    "        cv2.circle(dst2, end, 5, [0, 128, 255], -1)\n",
    "        cv2.circle(dst2, far, 5, [0, 0, 255], -1)\n",
    "cv2.imshow('dst2', dst2)\n",
    "\n",
    "cv2.waitKey()\n",
    "cv2.destroyAllWindows()\n",
    "                \n",
    "        \n",
    "        "
   ]
  }
 ],
 "metadata": {
  "kernelspec": {
   "display_name": "Python 3",
   "language": "python",
   "name": "python3"
  },
  "language_info": {
   "codemirror_mode": {
    "name": "ipython",
    "version": 3
   },
   "file_extension": ".py",
   "mimetype": "text/x-python",
   "name": "python",
   "nbconvert_exporter": "python",
   "pygments_lexer": "ipython3",
   "version": "3.7.10"
  }
 },
 "nbformat": 4,
 "nbformat_minor": 5
}
