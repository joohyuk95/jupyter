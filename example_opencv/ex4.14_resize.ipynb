{
 "cells": [
  {
   "cell_type": "code",
   "execution_count": 4,
   "id": "8a087f9e",
   "metadata": {},
   "outputs": [],
   "source": [
    "import cv2\n",
    "import numpy as np"
   ]
  },
  {
   "cell_type": "code",
   "execution_count": 5,
   "id": "4ffc0366",
   "metadata": {},
   "outputs": [],
   "source": [
    "src = cv2.imread('../data/lena.jpg', cv2.IMREAD_GRAYSCALE)"
   ]
  },
  {
   "cell_type": "code",
   "execution_count": 8,
   "id": "7d9e84f3",
   "metadata": {},
   "outputs": [],
   "source": [
    "dst = cv2.resize(src, dsize = (320, 240))\n",
    "dst2 = cv2.resize(src, dsize = (0,0), fx = 1.5, fy =1.2)"
   ]
  },
  {
   "cell_type": "code",
   "execution_count": 9,
   "id": "47175635",
   "metadata": {},
   "outputs": [],
   "source": [
    "cv2.imshow('dst', dst)\n",
    "cv2.imshow('dst2', dst2)\n",
    "cv2.waitKey()\n",
    "cv2.destroyAllWindows()"
   ]
  }
 ],
 "metadata": {
  "kernelspec": {
   "display_name": "Python 3",
   "language": "python",
   "name": "python3"
  },
  "language_info": {
   "codemirror_mode": {
    "name": "ipython",
    "version": 3
   },
   "file_extension": ".py",
   "mimetype": "text/x-python",
   "name": "python",
   "nbconvert_exporter": "python",
   "pygments_lexer": "ipython3",
   "version": "3.7.10"
  }
 },
 "nbformat": 4,
 "nbformat_minor": 5
}
