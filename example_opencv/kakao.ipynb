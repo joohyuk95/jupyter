{
 "cells": [
  {
   "cell_type": "code",
   "execution_count": 1,
   "id": "e41908a4",
   "metadata": {},
   "outputs": [],
   "source": [
    "import cv2"
   ]
  },
  {
   "cell_type": "code",
   "execution_count": 2,
   "id": "59c1fadc",
   "metadata": {},
   "outputs": [],
   "source": [
    "logo = cv2.imread('../data/kakao.jpg')\n",
    "ryan = cv2.imread('../data/ryan.png')"
   ]
  },
  {
   "cell_type": "code",
   "execution_count": 3,
   "id": "e31ce54b",
   "metadata": {
    "scrolled": true
   },
   "outputs": [
    {
     "data": {
      "text/plain": [
       "((492, 1181, 3), (219, 231, 3))"
      ]
     },
     "execution_count": 3,
     "metadata": {},
     "output_type": "execute_result"
    }
   ],
   "source": [
    "logo.shape, ryan.shape"
   ]
  },
  {
   "cell_type": "code",
   "execution_count": 4,
   "id": "086885ca",
   "metadata": {},
   "outputs": [],
   "source": [
    "logo = cv2.resize(logo, dsize = (120,40))\n",
    "ryan = cv2.resize(ryan, dsize = (300,300))\n",
    "cv2.imshow('ryan', ryan)"
   ]
  },
  {
   "cell_type": "code",
   "execution_count": 5,
   "id": "749c5f0f",
   "metadata": {},
   "outputs": [],
   "source": [
    "row, col = logo.shape[0], logo.shape[1]\n",
    "roi = ryan[0:row, 0:col]\n",
    "ryan[0:row, 0:col] = [255, 255, 255]"
   ]
  },
  {
   "cell_type": "code",
   "execution_count": 6,
   "id": "e5782754",
   "metadata": {},
   "outputs": [],
   "source": [
    "logo_gray = cv2.cvtColor(logo, cv2.COLOR_BGR2GRAY)\n",
    "cv2.imshow('gray', logo_gray)\n",
    "ret, mask = cv2.threshold(logo_gray, 200, 255, cv2.THRESH_BINARY)\n",
    "mask_inv = cv2.bitwise_not(mask)\n",
    "cv2.imshow('mask', mask)\n",
    "cv2.imshow('mask_inv', mask_inv)"
   ]
  },
  {
   "cell_type": "code",
   "execution_count": 7,
   "id": "39aabf91",
   "metadata": {},
   "outputs": [],
   "source": [
    "ryan_bg = cv2.bitwise_and(roi, roi, mask = mask)\n",
    "logo_fg = cv2.bitwise_and(logo, logo, mask = mask_inv)"
   ]
  },
  {
   "cell_type": "code",
   "execution_count": 8,
   "id": "394a8968",
   "metadata": {},
   "outputs": [],
   "source": [
    "cv2.imshow('ryan2', ryan)\n",
    "dst = cv2.bitwise_or(ryan_bg, logo_fg)\n",
    "ryan[0:row, 0:col] = dst"
   ]
  },
  {
   "cell_type": "code",
   "execution_count": 9,
   "id": "343bde7e",
   "metadata": {},
   "outputs": [],
   "source": [
    "cv2.imshow('logo', logo)\n",
    "cv2.imshow('result', ryan)\n",
    "cv2.waitKey()\n",
    "cv2.destroyAllWindows()"
   ]
  }
 ],
 "metadata": {
  "kernelspec": {
   "display_name": "Python 3",
   "language": "python",
   "name": "python3"
  },
  "language_info": {
   "codemirror_mode": {
    "name": "ipython",
    "version": 3
   },
   "file_extension": ".py",
   "mimetype": "text/x-python",
   "name": "python",
   "nbconvert_exporter": "python",
   "pygments_lexer": "ipython3",
   "version": "3.7.10"
  }
 },
 "nbformat": 4,
 "nbformat_minor": 5
}
