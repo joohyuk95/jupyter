{
 "cells": [
  {
   "cell_type": "code",
   "execution_count": 2,
   "id": "8f6e69bc",
   "metadata": {},
   "outputs": [],
   "source": [
    "import cv2\n",
    "import numpy as np"
   ]
  },
  {
   "cell_type": "code",
   "execution_count": 3,
   "id": "58cd78c0",
   "metadata": {},
   "outputs": [],
   "source": [
    "src = cv2.imread('../data/morphology.jpg', cv2.IMREAD_GRAYSCALE)\n",
    "kernel = cv2.getStructuringElement(shape = cv2.MORPH_RECT, ksize = (3,3))\n",
    "erode = cv2.erode(src, kernel, iterations = 5)\n",
    "dilate = cv2.dilate(src, kernel, iterations = 5)\n",
    "erode2 = cv2.erode(dilate, kernel, iterations = 7)\n",
    "\n",
    "cv2.imshow('src', src)\n",
    "cv2.imshow('erode', erode)\n",
    "cv2.imshow('dilate', dilate)\n",
    "cv2.imshow('erode2', erode2)\n",
    "\n",
    "cv2.waitKey()\n",
    "cv2.destroyAllWindows()"
   ]
  }
 ],
 "metadata": {
  "kernelspec": {
   "display_name": "Python 3",
   "language": "python",
   "name": "python3"
  },
  "language_info": {
   "codemirror_mode": {
    "name": "ipython",
    "version": 3
   },
   "file_extension": ".py",
   "mimetype": "text/x-python",
   "name": "python",
   "nbconvert_exporter": "python",
   "pygments_lexer": "ipython3",
   "version": "3.7.10"
  }
 },
 "nbformat": 4,
 "nbformat_minor": 5
}
