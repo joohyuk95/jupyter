{
 "cells": [
  {
   "cell_type": "code",
   "execution_count": 4,
   "id": "342abb6e",
   "metadata": {},
   "outputs": [],
   "source": [
    "import cv2\n",
    "import numpy as np"
   ]
  },
  {
   "cell_type": "code",
   "execution_count": 11,
   "id": "8136122d",
   "metadata": {},
   "outputs": [],
   "source": [
    "src1 = cv2.imread('../data/lena.jpg', cv2.IMREAD_GRAYSCALE)\n",
    "src2 = np.zeros(shape = (512, 512), dtype = np.uint8) + 100"
   ]
  },
  {
   "cell_type": "code",
   "execution_count": 12,
   "id": "5b7024c0",
   "metadata": {},
   "outputs": [],
   "source": [
    "dst1 = src1 + src2\n",
    "dst2 = cv2.add(src1, src2)"
   ]
  },
  {
   "cell_type": "code",
   "execution_count": 13,
   "id": "0ec77f60",
   "metadata": {},
   "outputs": [],
   "source": [
    "cv2.imshow('dst1', dst1)\n",
    "cv2.imshow('dst2', dst2)\n",
    "cv2.waitKey()\n",
    "cv2.destroyAllWindows()"
   ]
  }
 ],
 "metadata": {
  "kernelspec": {
   "display_name": "Python 3",
   "language": "python",
   "name": "python3"
  },
  "language_info": {
   "codemirror_mode": {
    "name": "ipython",
    "version": 3
   },
   "file_extension": ".py",
   "mimetype": "text/x-python",
   "name": "python",
   "nbconvert_exporter": "python",
   "pygments_lexer": "ipython3",
   "version": "3.7.10"
  }
 },
 "nbformat": 4,
 "nbformat_minor": 5
}
