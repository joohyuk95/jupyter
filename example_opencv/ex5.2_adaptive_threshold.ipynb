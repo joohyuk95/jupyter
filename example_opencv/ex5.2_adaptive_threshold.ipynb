{
 "cells": [
  {
   "cell_type": "code",
   "execution_count": 1,
   "id": "d6f81c01",
   "metadata": {},
   "outputs": [],
   "source": [
    "import cv2\n",
    "import numpy as np"
   ]
  },
  {
   "cell_type": "code",
   "execution_count": 2,
   "id": "ce1081bd",
   "metadata": {},
   "outputs": [],
   "source": [
    "src = cv2.imread('../data/srcThreshold.png', cv2.IMREAD_GRAYSCALE)\n",
    "cv2.imshow('src', src)"
   ]
  },
  {
   "cell_type": "code",
   "execution_count": 3,
   "id": "200394a3",
   "metadata": {},
   "outputs": [],
   "source": [
    "ret, dst = cv2.threshold(src, 0, 255, cv2.THRESH_BINARY + cv2.THRESH_OTSU)\n",
    "cv2.imshow('dst', dst)"
   ]
  },
  {
   "cell_type": "code",
   "execution_count": 4,
   "id": "4174a655",
   "metadata": {},
   "outputs": [],
   "source": [
    "dst2 = cv2.adaptiveThreshold(src, 255, cv2.ADAPTIVE_THRESH_MEAN_C, cv2.THRESH_BINARY, 51, 7)\n",
    "cv2.imshow('dst2', dst2)"
   ]
  },
  {
   "cell_type": "code",
   "execution_count": 5,
   "id": "2ac738f8",
   "metadata": {},
   "outputs": [],
   "source": [
    "dst3 = cv2.adaptiveThreshold(src, 255, cv2.ADAPTIVE_THRESH_GAUSSIAN_C, cv2.THRESH_BINARY, 51, 7)\n",
    "cv2.imshow('dst3', dst3)"
   ]
  },
  {
   "cell_type": "code",
   "execution_count": 6,
   "id": "3c873e73",
   "metadata": {},
   "outputs": [],
   "source": [
    "cv2.waitKey()\n",
    "cv2.destroyAllWindows()"
   ]
  }
 ],
 "metadata": {
  "kernelspec": {
   "display_name": "Python 3",
   "language": "python",
   "name": "python3"
  },
  "language_info": {
   "codemirror_mode": {
    "name": "ipython",
    "version": 3
   },
   "file_extension": ".py",
   "mimetype": "text/x-python",
   "name": "python",
   "nbconvert_exporter": "python",
   "pygments_lexer": "ipython3",
   "version": "3.7.10"
  }
 },
 "nbformat": 4,
 "nbformat_minor": 5
}
