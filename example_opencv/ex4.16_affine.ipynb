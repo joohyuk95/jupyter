{
 "cells": [
  {
   "cell_type": "code",
   "execution_count": 9,
   "id": "7b610abe",
   "metadata": {},
   "outputs": [],
   "source": [
    "import cv2\n",
    "src = cv2.imread('../data/lena.jpg')"
   ]
  },
  {
   "cell_type": "code",
   "execution_count": 10,
   "id": "521d831f",
   "metadata": {},
   "outputs": [],
   "source": [
    "rows, cols, channels = src.shape\n",
    "M1 = cv2.getRotationMatrix2D((rows / 2, cols / 2), 45, 0.5)\n",
    "M2 = cv2.getRotationMatrix2D((rows / 2, cols / 2), -45, 1.0)"
   ]
  },
  {
   "cell_type": "code",
   "execution_count": 11,
   "id": "281a6713",
   "metadata": {},
   "outputs": [],
   "source": [
    "dst1 = cv2.warpAffine(src, M1, (rows, cols))\n",
    "dst2 = cv2.warpAffine(src, M2, (rows, cols))"
   ]
  },
  {
   "cell_type": "code",
   "execution_count": 12,
   "id": "57d299d6",
   "metadata": {},
   "outputs": [],
   "source": [
    "cv2.imshow('dst1', dst1)\n",
    "cv2.imshow('dst2', dst2)\n",
    "cv2.waitKey()\n",
    "cv2.destroyAllWindows()"
   ]
  }
 ],
 "metadata": {
  "kernelspec": {
   "display_name": "Python 3",
   "language": "python",
   "name": "python3"
  },
  "language_info": {
   "codemirror_mode": {
    "name": "ipython",
    "version": 3
   },
   "file_extension": ".py",
   "mimetype": "text/x-python",
   "name": "python",
   "nbconvert_exporter": "python",
   "pygments_lexer": "ipython3",
   "version": "3.7.10"
  }
 },
 "nbformat": 4,
 "nbformat_minor": 5
}
