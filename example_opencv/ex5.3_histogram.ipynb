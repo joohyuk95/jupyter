{
 "cells": [
  {
   "cell_type": "code",
   "execution_count": null,
   "id": "db7984be",
   "metadata": {},
   "outputs": [],
   "source": [
    "import cv2\n",
    "import numpy as np\n",
    "\n",
    "src = np.array([[0, 0, 0, 0],\n",
    "               [1, 1, 3, 5],\n",
    "               [6, 1, 1, 3],\n",
    "               [4, 3, 1, 7],\n",
    "               dtype = np.uint8])\n",
    "\n",
    "hist1 = cv2.calcHist(images = [src], channels = [0], mask = None, histSize = [4], ranges = [0, 4])\n",
    "print('hist1 = ', hist1)\n",
    "\n",
    "hist2 = cv2.calcHist(images = [src], channels = [0], mask = None, histSize = [4], ranges = [0, 4])\n",
    "print('hist2 = ', hist2)"
   ]
  }
 ],
 "metadata": {
  "kernelspec": {
   "display_name": "Python 3",
   "language": "python",
   "name": "python3"
  },
  "language_info": {
   "codemirror_mode": {
    "name": "ipython",
    "version": 3
   },
   "file_extension": ".py",
   "mimetype": "text/x-python",
   "name": "python",
   "nbconvert_exporter": "python",
   "pygments_lexer": "ipython3",
   "version": "3.7.10"
  }
 },
 "nbformat": 4,
 "nbformat_minor": 5
}
