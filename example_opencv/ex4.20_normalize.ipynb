{
 "cells": [
  {
   "cell_type": "code",
   "execution_count": 2,
   "id": "ed05ad12",
   "metadata": {},
   "outputs": [],
   "source": [
    "import cv2\n",
    "import numpy as np"
   ]
  },
  {
   "cell_type": "code",
   "execution_count": 3,
   "id": "f44ee9a4",
   "metadata": {},
   "outputs": [],
   "source": [
    "src = cv2.imread('../data/lena.jpg', cv2.IMREAD_GRAYSCALE)"
   ]
  },
  {
   "cell_type": "code",
   "execution_count": 4,
   "id": "969dbbfe",
   "metadata": {},
   "outputs": [
    {
     "name": "stdout",
     "output_type": "stream",
     "text": [
      "src: 18.0 248.0 (265, 198) (116, 273)\n"
     ]
    }
   ],
   "source": [
    "minVal, maxVal, minLoc, maxLoc = cv2.minMaxLoc(src)\n",
    "print('src:', minVal, maxVal, minLoc, maxLoc)"
   ]
  },
  {
   "cell_type": "code",
   "execution_count": 5,
   "id": "4f1bf413",
   "metadata": {},
   "outputs": [
    {
     "name": "stdout",
     "output_type": "stream",
     "text": [
      "dst: 100.0 200.0 (265, 198) (116, 273)\n"
     ]
    }
   ],
   "source": [
    "dst = cv2.normalize(src, None, 100, 200, cv2.NORM_MINMAX)\n",
    "minVal, maxVal, minLoc, maxLoc = cv2.minMaxLoc(dst)\n",
    "print('dst:', minVal, maxVal, minLoc, maxLoc)"
   ]
  },
  {
   "cell_type": "code",
   "execution_count": 6,
   "id": "5d1aeaf1",
   "metadata": {},
   "outputs": [],
   "source": [
    "cv2.imshow('dst', dst)\n",
    "cv2.waitKey()\n",
    "cv2.destroyAllWindows()"
   ]
  }
 ],
 "metadata": {
  "kernelspec": {
   "display_name": "Python 3",
   "language": "python",
   "name": "python3"
  },
  "language_info": {
   "codemirror_mode": {
    "name": "ipython",
    "version": 3
   },
   "file_extension": ".py",
   "mimetype": "text/x-python",
   "name": "python",
   "nbconvert_exporter": "python",
   "pygments_lexer": "ipython3",
   "version": "3.7.10"
  }
 },
 "nbformat": 4,
 "nbformat_minor": 5
}
