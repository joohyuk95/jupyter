{
 "cells": [
  {
   "cell_type": "code",
   "execution_count": 1,
   "id": "a586659c",
   "metadata": {},
   "outputs": [],
   "source": [
    "import cv2\n",
    "import numpy as np"
   ]
  },
  {
   "cell_type": "code",
   "execution_count": 2,
   "id": "e3254afa",
   "metadata": {},
   "outputs": [],
   "source": [
    "src = cv2.imread('../data/heart10.jpg', cv2.IMREAD_GRAYSCALE)\n",
    "cv2.imshow('src', src)"
   ]
  },
  {
   "cell_type": "code",
   "execution_count": 3,
   "id": "f91827ed",
   "metadata": {},
   "outputs": [
    {
     "name": "stdout",
     "output_type": "stream",
     "text": [
      "ret= 120.0\n"
     ]
    }
   ],
   "source": [
    "ret, dst = cv2.threshold(src, 120, 255, cv2.THRESH_BINARY)\n",
    "print('ret=', ret)\n",
    "cv2.imshow('dst', dst)"
   ]
  },
  {
   "cell_type": "code",
   "execution_count": 4,
   "id": "f5493e1c",
   "metadata": {},
   "outputs": [
    {
     "name": "stdout",
     "output_type": "stream",
     "text": [
      "ret2= 175.0\n"
     ]
    }
   ],
   "source": [
    "ret2, dst2 = cv2.threshold(src, 200, 255, cv2.THRESH_BINARY + cv2.THRESH_OTSU)\n",
    "print('ret2=', ret2)\n",
    "cv2.imshow('dst2', dst2)"
   ]
  },
  {
   "cell_type": "code",
   "execution_count": 5,
   "id": "8550ce14",
   "metadata": {},
   "outputs": [],
   "source": [
    "cv2.waitKey()\n",
    "cv2.destroyAllWindows()"
   ]
  }
 ],
 "metadata": {
  "kernelspec": {
   "display_name": "Python 3",
   "language": "python",
   "name": "python3"
  },
  "language_info": {
   "codemirror_mode": {
    "name": "ipython",
    "version": 3
   },
   "file_extension": ".py",
   "mimetype": "text/x-python",
   "name": "python",
   "nbconvert_exporter": "python",
   "pygments_lexer": "ipython3",
   "version": "3.7.10"
  }
 },
 "nbformat": 4,
 "nbformat_minor": 5
}
