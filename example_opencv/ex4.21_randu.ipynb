{
 "cells": [
  {
   "cell_type": "code",
   "execution_count": 9,
   "id": "02cb3033",
   "metadata": {},
   "outputs": [],
   "source": [
    "import cv2\n",
    "import numpy as np\n",
    "import time"
   ]
  },
  {
   "cell_type": "code",
   "execution_count": 10,
   "id": "076806e8",
   "metadata": {},
   "outputs": [],
   "source": [
    "dst = np.full((512, 512, 3), (255, 255, 255), dtype = np.uint8)\n",
    "nPoints = 100\n",
    "pts = np.zeros((1, nPoints, 2), dtype = np.uint16)"
   ]
  },
  {
   "cell_type": "code",
   "execution_count": 17,
   "id": "8190b1c5",
   "metadata": {},
   "outputs": [
    {
     "data": {
      "text/plain": [
       "array([[[106, 330],\n",
       "        [ 91,  94],\n",
       "        [419, 430],\n",
       "        [ 12, 437],\n",
       "        [152, 230],\n",
       "        [206,  12],\n",
       "        [120, 420],\n",
       "        [418, 154],\n",
       "        [250, 172],\n",
       "        [132, 297],\n",
       "        [380, 357],\n",
       "        [341, 363],\n",
       "        [ 18, 174],\n",
       "        [432, 388],\n",
       "        [ 97,  25],\n",
       "        [275, 279],\n",
       "        [ 59, 151],\n",
       "        [432,  49],\n",
       "        [429, 216],\n",
       "        [401, 374],\n",
       "        [180, 419],\n",
       "        [346, 366],\n",
       "        [179,   9],\n",
       "        [ 69, 168],\n",
       "        [403, 342],\n",
       "        [224, 394],\n",
       "        [207, 153],\n",
       "        [ 19,  97],\n",
       "        [297, 255],\n",
       "        [335,   7],\n",
       "        [472,  34],\n",
       "        [465, 131],\n",
       "        [331, 144],\n",
       "        [ 72,  79],\n",
       "        [474, 110],\n",
       "        [354,  72],\n",
       "        [ 26,  73],\n",
       "        [163, 259],\n",
       "        [204,  78],\n",
       "        [370, 347],\n",
       "        [223,  18],\n",
       "        [173, 459],\n",
       "        [113, 494],\n",
       "        [166,  59],\n",
       "        [194,  19],\n",
       "        [124, 200],\n",
       "        [453, 444],\n",
       "        [ 31, 445],\n",
       "        [ 13, 381],\n",
       "        [461, 135],\n",
       "        [232, 420],\n",
       "        [454, 476],\n",
       "        [ 74, 332],\n",
       "        [133, 187],\n",
       "        [231, 263],\n",
       "        [260, 422],\n",
       "        [213, 145],\n",
       "        [271, 506],\n",
       "        [ 84, 413],\n",
       "        [ 44, 370],\n",
       "        [160, 419],\n",
       "        [317, 193],\n",
       "        [ 79, 419],\n",
       "        [392, 510],\n",
       "        [372, 278],\n",
       "        [242,  35],\n",
       "        [227,  94],\n",
       "        [207, 509],\n",
       "        [ 76, 463],\n",
       "        [460, 465],\n",
       "        [176, 189],\n",
       "        [353, 460],\n",
       "        [ 83, 500],\n",
       "        [458, 468],\n",
       "        [441, 410],\n",
       "        [233,  18],\n",
       "        [131,  59],\n",
       "        [376, 342],\n",
       "        [ 25, 293],\n",
       "        [279, 456],\n",
       "        [323, 449],\n",
       "        [ 90, 259],\n",
       "        [243, 449],\n",
       "        [211, 348],\n",
       "        [352, 200],\n",
       "        [ 55, 447],\n",
       "        [493, 260],\n",
       "        [472, 308],\n",
       "        [505, 308],\n",
       "        [ 78, 120],\n",
       "        [240, 395],\n",
       "        [203, 245],\n",
       "        [170,  70],\n",
       "        [407, 214],\n",
       "        [ 57, 161],\n",
       "        [452, 473],\n",
       "        [ 26, 148],\n",
       "        [353, 476],\n",
       "        [221, 453],\n",
       "        [343, 470]]], dtype=uint16)"
      ]
     },
     "execution_count": 17,
     "metadata": {},
     "output_type": "execute_result"
    }
   ],
   "source": [
    "cv2.setRNGSeed(int(time.time()))\n",
    "cv2.randu(pts, (0, 0), (512, 512))"
   ]
  },
  {
   "cell_type": "code",
   "execution_count": 18,
   "id": "142f002a",
   "metadata": {},
   "outputs": [],
   "source": [
    "for k in range(nPoints):\n",
    "    x, y = pts[0, k][:]\n",
    "    cv2.circle(dst, (x, y), radius = 5, color = (0, 0, 255), thickness = -1)"
   ]
  },
  {
   "cell_type": "code",
   "execution_count": 19,
   "id": "9e2e1cee",
   "metadata": {},
   "outputs": [],
   "source": [
    "cv2.imshow('dst', dst)\n",
    "cv2.waitKey()\n",
    "cv2.destroyAllWindows()"
   ]
  }
 ],
 "metadata": {
  "kernelspec": {
   "display_name": "Python 3",
   "language": "python",
   "name": "python3"
  },
  "language_info": {
   "codemirror_mode": {
    "name": "ipython",
    "version": 3
   },
   "file_extension": ".py",
   "mimetype": "text/x-python",
   "name": "python",
   "nbconvert_exporter": "python",
   "pygments_lexer": "ipython3",
   "version": "3.7.10"
  }
 },
 "nbformat": 4,
 "nbformat_minor": 5
}
