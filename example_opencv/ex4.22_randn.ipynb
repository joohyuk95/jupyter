{
 "cells": [
  {
   "cell_type": "code",
   "execution_count": 1,
   "id": "c0339cbe",
   "metadata": {},
   "outputs": [],
   "source": [
    "import cv2\n",
    "import numpy as np\n",
    "import time"
   ]
  },
  {
   "cell_type": "code",
   "execution_count": 2,
   "id": "3c1ed10e",
   "metadata": {},
   "outputs": [],
   "source": [
    "dst = np.full((512, 512, 3), (255, 255, 255), dtype = np.uint8)\n",
    "nPoints = 100\n",
    "pts = np.zeros((1, nPoints, 2), dtype = np.uint16)"
   ]
  },
  {
   "cell_type": "code",
   "execution_count": 6,
   "id": "59789241",
   "metadata": {},
   "outputs": [
    {
     "data": {
      "text/plain": [
       "array([[[311, 197],\n",
       "        [199, 297],\n",
       "        [300, 224],\n",
       "        [275, 263],\n",
       "        [223, 238],\n",
       "        [286, 309],\n",
       "        [314, 270],\n",
       "        [222, 179],\n",
       "        [275, 283],\n",
       "        [239, 244],\n",
       "        [199, 279],\n",
       "        [214, 262],\n",
       "        [201, 245],\n",
       "        [205, 313],\n",
       "        [249, 292],\n",
       "        [299, 189],\n",
       "        [281, 188],\n",
       "        [281, 427],\n",
       "        [220, 334],\n",
       "        [318, 360],\n",
       "        [253, 276],\n",
       "        [259, 227],\n",
       "        [290, 238],\n",
       "        [255, 272],\n",
       "        [328, 228],\n",
       "        [212, 224],\n",
       "        [243, 211],\n",
       "        [319, 272],\n",
       "        [295, 253],\n",
       "        [295, 191],\n",
       "        [173, 176],\n",
       "        [318, 205],\n",
       "        [232, 252],\n",
       "        [228, 300],\n",
       "        [221, 279],\n",
       "        [319, 306],\n",
       "        [223, 377],\n",
       "        [200, 304],\n",
       "        [282, 346],\n",
       "        [170, 253],\n",
       "        [262, 294],\n",
       "        [300, 230],\n",
       "        [290, 273],\n",
       "        [239, 252],\n",
       "        [247, 308],\n",
       "        [256, 195],\n",
       "        [291, 334],\n",
       "        [332, 308],\n",
       "        [201, 229],\n",
       "        [272, 240],\n",
       "        [191, 294],\n",
       "        [180, 345],\n",
       "        [239, 229],\n",
       "        [195, 264],\n",
       "        [231, 201],\n",
       "        [249, 243],\n",
       "        [311, 246],\n",
       "        [248, 165],\n",
       "        [327, 195],\n",
       "        [234, 241],\n",
       "        [276, 245],\n",
       "        [225, 201],\n",
       "        [271, 239],\n",
       "        [211, 315],\n",
       "        [303, 163],\n",
       "        [270, 181],\n",
       "        [296, 319],\n",
       "        [208, 437],\n",
       "        [294, 373],\n",
       "        [263, 277],\n",
       "        [238, 231],\n",
       "        [283, 156],\n",
       "        [278, 307],\n",
       "        [218, 304],\n",
       "        [252, 169],\n",
       "        [178, 267],\n",
       "        [223, 217],\n",
       "        [369, 259],\n",
       "        [302, 192],\n",
       "        [296, 390],\n",
       "        [289, 285],\n",
       "        [166, 193],\n",
       "        [249, 191],\n",
       "        [291, 158],\n",
       "        [284, 233],\n",
       "        [283, 258],\n",
       "        [282, 282],\n",
       "        [209, 284],\n",
       "        [312, 272],\n",
       "        [251, 247],\n",
       "        [272, 278],\n",
       "        [238, 203],\n",
       "        [223, 289],\n",
       "        [245, 219],\n",
       "        [268, 357],\n",
       "        [204, 196],\n",
       "        [310, 249],\n",
       "        [189, 297],\n",
       "        [233, 326],\n",
       "        [186, 209]]], dtype=uint16)"
      ]
     },
     "execution_count": 6,
     "metadata": {},
     "output_type": "execute_result"
    }
   ],
   "source": [
    "cv2.setRNGSeed(int(time.time()))\n",
    "cv2.randn(pts, mean = (256, 256), stddev = (50, 50))"
   ]
  },
  {
   "cell_type": "code",
   "execution_count": 7,
   "id": "d7e525d3",
   "metadata": {},
   "outputs": [],
   "source": [
    "for k in range(nPoints):\n",
    "    x, y = pts[0, k][:]\n",
    "    cv2.circle(dst, (x, y), radius = 5, color = (0, 0, 255), thickness = -1)"
   ]
  },
  {
   "cell_type": "code",
   "execution_count": 8,
   "id": "41557ce7",
   "metadata": {},
   "outputs": [],
   "source": [
    "cv2.imshow('dst', dst)\n",
    "cv2.waitKey()\n",
    "cv2.destroyAllWindows()"
   ]
  }
 ],
 "metadata": {
  "kernelspec": {
   "display_name": "Python 3",
   "language": "python",
   "name": "python3"
  },
  "language_info": {
   "codemirror_mode": {
    "name": "ipython",
    "version": 3
   },
   "file_extension": ".py",
   "mimetype": "text/x-python",
   "name": "python",
   "nbconvert_exporter": "python",
   "pygments_lexer": "ipython3",
   "version": "3.7.10"
  }
 },
 "nbformat": 4,
 "nbformat_minor": 5
}
