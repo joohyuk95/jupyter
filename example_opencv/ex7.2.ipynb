{
 "cells": [
  {
   "cell_type": "code",
   "execution_count": 2,
   "id": "f76b60f1",
   "metadata": {},
   "outputs": [
    {
     "name": "stdout",
     "output_type": "stream",
     "text": [
      "lines.shape = (4, 1, 2)\n"
     ]
    }
   ],
   "source": [
    "import cv2\n",
    "import numpy as np\n",
    "\n",
    "src = cv2.imread('../data/rect.jpg')\n",
    "gray = cv2.cvtColor(src, cv2.COLOR_BGR2GRAY)\n",
    "edges = cv2.Canny(gray, 50, 100)\n",
    "lines = cv2.HoughLines(edges, rho = 1, theta = np.pi / 180.0, threshold = 100)\n",
    "print('lines.shape =', lines.shape)\n",
    "\n",
    "for line in lines:\n",
    "    rho, theta = line[0]\n",
    "    c = np.cos(theta)\n",
    "    s = np.sin(theta)\n",
    "    \n",
    "    x0 = c * rho\n",
    "    y0 = s * rho\n",
    "    x1 = int(x0 + 1000 * (-s))\n",
    "    y1 = int(y0 + 1000 * (c))\n",
    "    x2 = int(x0 - 1000 * (-s))\n",
    "    y2 = int(y0 - 1000 * (c))\n",
    "    cv2.line(src, (x1, y1), (x2, y2), (0, 0, 255), 2)\n",
    "    \n",
    "cv2.imshow('edges', edges)\n",
    "cv2.imshow('src', src)\n",
    "cv2.waitKey()\n",
    "cv2.destroyAllWindows()"
   ]
  }
 ],
 "metadata": {
  "kernelspec": {
   "display_name": "Python 3",
   "language": "python",
   "name": "python3"
  },
  "language_info": {
   "codemirror_mode": {
    "name": "ipython",
    "version": 3
   },
   "file_extension": ".py",
   "mimetype": "text/x-python",
   "name": "python",
   "nbconvert_exporter": "python",
   "pygments_lexer": "ipython3",
   "version": "3.7.10"
  }
 },
 "nbformat": 4,
 "nbformat_minor": 5
}
