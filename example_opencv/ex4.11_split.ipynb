{
 "cells": [
  {
   "cell_type": "code",
   "execution_count": 7,
   "id": "1916624a",
   "metadata": {},
   "outputs": [],
   "source": [
    "import cv2\n",
    "src = cv2.imread('../data/lena.jpg')"
   ]
  },
  {
   "cell_type": "code",
   "execution_count": 8,
   "id": "0724d7fc",
   "metadata": {},
   "outputs": [],
   "source": [
    "dst = cv2.split(src)"
   ]
  },
  {
   "cell_type": "code",
   "execution_count": 10,
   "id": "3712f0f4",
   "metadata": {},
   "outputs": [],
   "source": [
    "cv2.imshow('src', src)\n",
    "cv2.imshow('blue', dst[0])\n",
    "cv2.imshow('green', dst[1])\n",
    "cv2.imshow('red', dst[2])\n",
    "\n",
    "cv2.waitKey()\n",
    "cv2.destroyAllWindows()"
   ]
  }
 ],
 "metadata": {
  "kernelspec": {
   "display_name": "Python 3",
   "language": "python",
   "name": "python3"
  },
  "language_info": {
   "codemirror_mode": {
    "name": "ipython",
    "version": 3
   },
   "file_extension": ".py",
   "mimetype": "text/x-python",
   "name": "python",
   "nbconvert_exporter": "python",
   "pygments_lexer": "ipython3",
   "version": "3.7.10"
  }
 },
 "nbformat": 4,
 "nbformat_minor": 5
}
