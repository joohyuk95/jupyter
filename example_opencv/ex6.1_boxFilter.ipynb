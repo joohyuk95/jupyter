{
 "cells": [
  {
   "cell_type": "code",
   "execution_count": 10,
   "id": "28efa878",
   "metadata": {},
   "outputs": [],
   "source": [
    "import cv2\n",
    "import numpy as np"
   ]
  },
  {
   "cell_type": "code",
   "execution_count": 12,
   "id": "2120a020",
   "metadata": {},
   "outputs": [],
   "source": [
    "src = cv2.imread('../data/lena.jpg', cv2.IMREAD_GRAYSCALE)\n",
    "\n",
    "dst1 = cv2.boxFilter(src, ddepth = -1, ksize = (11, 11))\n",
    "dst2 = cv2.boxFilter(src, ddepth = -1, ksize = (21, 21))\n",
    "\n",
    "dst3 = cv2.bilateralFilter(src, d = 11, sigmaColor = 10, sigmaSpace = 10)\n",
    "dst4 = cv2.bilateralFilter(src, d = -1, sigmaColor = 10, sigmaSpace = 10)\n"
   ]
  },
  {
   "cell_type": "code",
   "execution_count": 4,
   "id": "8026c0d0",
   "metadata": {},
   "outputs": [],
   "source": [
    "cv2.imshow('dst1', dst1)\n",
    "cv2.imshow('dst2', dst2)\n",
    "cv2.imshow('dst3', dst3)\n",
    "cv2.imshow('dst4', dst4)\n",
    "cv2.waitKey()\n",
    "cv2.destroyAllWindows()"
   ]
  },
  {
   "cell_type": "code",
   "execution_count": 8,
   "id": "6da5391f",
   "metadata": {},
   "outputs": [],
   "source": [
    "dst5 = cv2.medianBlur(src, ksize = 7)\n",
    "dst6 = cv2.blur(src, ksize = (7,7))\n",
    "dst7 = cv2.GaussianBlur(src, ksize = (7,7), sigmaX = 0.0)\n",
    "dst8 = cv2.GaussianBlur(src, ksize = (7,7), sigmaX = 10.0)"
   ]
  },
  {
   "cell_type": "code",
   "execution_count": 9,
   "id": "5b01e70b",
   "metadata": {},
   "outputs": [],
   "source": [
    "cv2.imshow('dst5', dst5)\n",
    "cv2.imshow('dst6', dst6)\n",
    "cv2.imshow('dst7', dst7)\n",
    "cv2.imshow('dst8', dst8)\n",
    "cv2.waitKey()\n",
    "cv2.destroyAllWindows()"
   ]
  }
 ],
 "metadata": {
  "kernelspec": {
   "display_name": "Python 3",
   "language": "python",
   "name": "python3"
  },
  "language_info": {
   "codemirror_mode": {
    "name": "ipython",
    "version": 3
   },
   "file_extension": ".py",
   "mimetype": "text/x-python",
   "name": "python",
   "nbconvert_exporter": "python",
   "pygments_lexer": "ipython3",
   "version": "3.7.10"
  }
 },
 "nbformat": 4,
 "nbformat_minor": 5
}
