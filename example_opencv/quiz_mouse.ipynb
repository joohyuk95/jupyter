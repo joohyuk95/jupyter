{
 "cells": [
  {
   "cell_type": "code",
   "execution_count": 6,
   "id": "4ba698f6",
   "metadata": {},
   "outputs": [],
   "source": [
    "import cv2\n",
    "import numpy as np\n",
    "\n",
    "#img = np.zeros(shape = (512, 512, 3), dtype = np.uint8) + 255\n",
    "\n",
    "def onMouse(event, x, y, flags, param):\n",
    "    if event == cv2.EVENT_LBUTTONDOWN:    \n",
    "        text = \"Hello OpenCV\"\n",
    "        org = (x, y)\n",
    "        font = cv2.FONT_HERSHEY_SIMPLEX\n",
    "        cv2.putText(param[0], text, org, font, 1, (255, 0, 0), 2)\n",
    "    elif event == cv2.EVENT_RBUTTONDOWN:\n",
    "        cv2.rectangle(param[0], (x -75, y-75), (x + 75, y + 75), (0, 0, 255))\n",
    "    cv2.imshow('img', param[0])\n",
    "    \n",
    "img = np.zeros((512, 512, 3), np.uint8) + 255\n",
    "cv2.imshow('img', img)\n",
    "cv2.setMouseCallback('img', onMouse, [img])\n",
    "cv2.waitKey()\n",
    "cv2.destroyAllWindows()"
   ]
  }
 ],
 "metadata": {
  "kernelspec": {
   "display_name": "Python 3",
   "language": "python",
   "name": "python3"
  },
  "language_info": {
   "codemirror_mode": {
    "name": "ipython",
    "version": 3
   },
   "file_extension": ".py",
   "mimetype": "text/x-python",
   "name": "python",
   "nbconvert_exporter": "python",
   "pygments_lexer": "ipython3",
   "version": "3.7.10"
  }
 },
 "nbformat": 4,
 "nbformat_minor": 5
}
