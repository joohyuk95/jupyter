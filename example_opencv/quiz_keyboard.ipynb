{
 "cells": [
  {
   "cell_type": "code",
   "execution_count": 15,
   "id": "ab8a5fbe",
   "metadata": {},
   "outputs": [],
   "source": [
    "import cv2\n",
    "import numpy as np\n",
    "from math import cos, radians\n",
    "width, height = 512, 512\n",
    "x, y, R = 256, 256, 50\n",
    "direction = 0\n",
    "\n",
    "top_lim = R\n",
    "bot_lim = int(R * cos(radians(36)))\n",
    "left_lim = int(R * cos(radians(18)))\n",
    "\n",
    "while True:\n",
    "    key = cv2.waitKeyEx(30)\n",
    "    if key == 0x1B:\n",
    "        break;\n",
    "    \n",
    "    elif key == 0x270000:\n",
    "        direction = 0\n",
    "    elif key == 0x280000:\n",
    "        direction = 1\n",
    "    elif key == 0x250000:\n",
    "        direction = 2\n",
    "    elif key == 0x260000:\n",
    "        direction = 3\n",
    "    \n",
    "    if direction == 0:\n",
    "        x += 10\n",
    "    elif direction == 1:\n",
    "        y += 10\n",
    "    elif direction == 2:\n",
    "        x -= 10\n",
    "    else:\n",
    "        y -= 10        \n",
    "    \n",
    "    if x < left_lim:\n",
    "        x = left_lim\n",
    "        direction = 0\n",
    "    if x > width - left_lim:\n",
    "        x = width - left_lim\n",
    "        direction = 2\n",
    "    if y < top_lim:\n",
    "        y = top_lim\n",
    "        direction = 1\n",
    "    if y > height - bot_lim:\n",
    "        y = height - bot_lim\n",
    "        direction = 3\n",
    "    \n",
    "    img = np.zeros((width, height, 3), np.uint8) + 255\n",
    "    pts = cv2.ellipse2Poly((x,y), (50,50), 0, -90, 270, 72)\n",
    "    cv2.polylines(img, [pts], True, (0, 0, 255), 2)\n",
    "    cv2.imshow('img', img)\n",
    "\n",
    "cv2.destroyAllWindows()"
   ]
  }
 ],
 "metadata": {
  "kernelspec": {
   "display_name": "Python 3",
   "language": "python",
   "name": "python3"
  },
  "language_info": {
   "codemirror_mode": {
    "name": "ipython",
    "version": 3
   },
   "file_extension": ".py",
   "mimetype": "text/x-python",
   "name": "python",
   "nbconvert_exporter": "python",
   "pygments_lexer": "ipython3",
   "version": "3.7.10"
  }
 },
 "nbformat": 4,
 "nbformat_minor": 5
}
