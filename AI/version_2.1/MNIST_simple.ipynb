{
 "cells": [
  {
   "cell_type": "code",
   "execution_count": 4,
   "id": "afff3319",
   "metadata": {},
   "outputs": [],
   "source": [
    "from tensorflow.keras.datasets import mnist\n",
    "from tensorflow.python.keras.utils.np_utils import to_categorical\n",
    "from tensorflow.keras.models import Sequential\n",
    "from tensorflow.keras.layers import Dense\n",
    "from tensorflow.keras.callbacks import ModelCheckpoint, EarlyStopping\n",
    "\n",
    "import matplotlib.pyplot as plt\n",
    "import numpy as np\n",
    "import os\n",
    "import tensorflow as tf\n",
    "\n",
    "seed = 0\n",
    "np.random.seed(seed)\n",
    "tf.random.set_seed(3)"
   ]
  },
  {
   "cell_type": "code",
   "execution_count": 5,
   "id": "cfaa0618",
   "metadata": {},
   "outputs": [
    {
     "name": "stdout",
     "output_type": "stream",
     "text": [
      "Downloading data from https://storage.googleapis.com/tensorflow/tf-keras-datasets/mnist.npz\n",
      "11493376/11490434 [==============================] - 2s 0us/step\n"
     ]
    }
   ],
   "source": [
    "(X_train, Y_train), (X_test, Y_test) = mnist.load_data()\n",
    "\n",
    "X_train = X_train.reshape(X_train.shape[0], 784).astype('float32') / 255\n",
    "X_test = X_test.reshape(X_test.shape[0], 784).astype('float32') / 255\n",
    "\n",
    "Y_train = to_categorical(Y_train, 10)\n",
    "Y_test = to_categorical(Y_test, 10)"
   ]
  },
  {
   "cell_type": "code",
   "execution_count": 12,
   "id": "b042ada6",
   "metadata": {},
   "outputs": [],
   "source": [
    "model = Sequential()\n",
    "model.add(Dense(512, input_dim=784, activation='relu'))\n",
    "model.add(Dense(10, activation='softmax'))"
   ]
  },
  {
   "cell_type": "code",
   "execution_count": 13,
   "id": "7ac33e85",
   "metadata": {},
   "outputs": [],
   "source": [
    "model.compile(loss='categorical_crossentropy',\n",
    "              optimizer='adam',\n",
    "              metrics=['accuracy'])"
   ]
  },
  {
   "cell_type": "code",
   "execution_count": 14,
   "id": "d5c8be05",
   "metadata": {},
   "outputs": [],
   "source": [
    "MODEL_DIR = './model/'\n",
    "if not os.path.exists(MODEL_DIR):\n",
    "    os.mkdir(MODEL_DIR)\n",
    "    \n",
    "modelpath=\"./model/{epoch:02d}-{val_loss:.4f}.hdf5\"\n",
    "checkpointer = ModelCheckpoint(filepath=modelpath, monitor='val_loss', verbose=1, save_best_only=True)\n",
    "early_stopping_callback = EarlyStopping(monitor='val_loss', patience=10)"
   ]
  },
  {
   "cell_type": "code",
   "execution_count": 15,
   "id": "5a8cbfe7",
   "metadata": {
    "scrolled": true
   },
   "outputs": [
    {
     "name": "stdout",
     "output_type": "stream",
     "text": [
      "\n",
      "Epoch 00001: val_loss improved from inf to 0.15770, saving model to ./model/01-0.1577.hdf5\n",
      "\n",
      "Epoch 00002: val_loss improved from 0.15770 to 0.10516, saving model to ./model/02-0.1052.hdf5\n",
      "\n",
      "Epoch 00003: val_loss improved from 0.10516 to 0.08669, saving model to ./model/03-0.0867.hdf5\n",
      "\n",
      "Epoch 00004: val_loss improved from 0.08669 to 0.07631, saving model to ./model/04-0.0763.hdf5\n",
      "\n",
      "Epoch 00005: val_loss improved from 0.07631 to 0.06548, saving model to ./model/05-0.0655.hdf5\n",
      "\n",
      "Epoch 00006: val_loss did not improve from 0.06548\n",
      "\n",
      "Epoch 00007: val_loss did not improve from 0.06548\n",
      "\n",
      "Epoch 00008: val_loss improved from 0.06548 to 0.05939, saving model to ./model/08-0.0594.hdf5\n",
      "\n",
      "Epoch 00009: val_loss did not improve from 0.05939\n",
      "\n",
      "Epoch 00010: val_loss did not improve from 0.05939\n",
      "\n",
      "Epoch 00011: val_loss did not improve from 0.05939\n",
      "\n",
      "Epoch 00012: val_loss did not improve from 0.05939\n",
      "\n",
      "Epoch 00013: val_loss did not improve from 0.05939\n",
      "\n",
      "Epoch 00014: val_loss did not improve from 0.05939\n",
      "\n",
      "Epoch 00015: val_loss did not improve from 0.05939\n",
      "\n",
      "Epoch 00016: val_loss did not improve from 0.05939\n",
      "\n",
      "Epoch 00017: val_loss did not improve from 0.05939\n",
      "\n",
      "Epoch 00018: val_loss did not improve from 0.05939\n"
     ]
    }
   ],
   "source": [
    "history = model.fit(X_train, Y_train, validation_data=(X_test, Y_test), epochs=30, batch_size=200, verbose=0, callbacks=[early_stopping_callback, checkpointer])"
   ]
  },
  {
   "cell_type": "code",
   "execution_count": 16,
   "id": "eb796bf5",
   "metadata": {},
   "outputs": [
    {
     "name": "stdout",
     "output_type": "stream",
     "text": [
      "10000/10000 [==============================] - 1s 119us/sample - loss: 0.1135 - accuracy: 0.9709\n",
      "\n",
      " Test Accuracy: 0.9709\n"
     ]
    }
   ],
   "source": [
    "print(\"\\n Test Accuracy: %.4f\" %(model.evaluate(X_test, Y_test)[1]))\n",
    "\n",
    "y_vloss = history.history['val_loss']\n",
    "y_loss = history.history['loss']"
   ]
  },
  {
   "cell_type": "code",
   "execution_count": 17,
   "id": "b45c6476",
   "metadata": {},
   "outputs": [
    {
     "data": {
      "image/png": "[encoded data removed]",
      "text/plain": [
       "<Figure size 432x288 with 1 Axes>"
      ]
     },
     "metadata": {
      "needs_background": "light"
     },
     "output_type": "display_data"
    }
   ],
   "source": [
    "x_len = np.arange(len(y_loss))\n",
    "plt.plot(x_len, y_vloss, marker='.', c='red', label=\"Testset_loss\")\n",
    "plt.plot(x_len, y_loss, marker='.', c='blue', label=\"Trainset_loss\")\n",
    "\n",
    "plt.legend(loc=\"upper right\")\n",
    "\n",
    "plt.grid()\n",
    "plt.xlabel('epoch')\n",
    "plt.ylabel('loss')\n",
    "plt.show()"
   ]
  }
 ],
 "metadata": {
  "kernelspec": {
   "display_name": "Python 3",
   "language": "python",
   "name": "python3"
  },
  "language_info": {
   "codemirror_mode": {
    "name": "ipython",
    "version": 3
   },
   "file_extension": ".py",
   "mimetype": "text/x-python",
   "name": "python",
   "nbconvert_exporter": "python",
   "pygments_lexer": "ipython3",
   "version": "3.7.10"
  }
 },
 "nbformat": 4,
 "nbformat_minor": 5
}
