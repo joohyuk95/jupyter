{
 "cells": [
  {
   "cell_type": "code",
   "execution_count": 1,
   "id": "1253bf8b",
   "metadata": {},
   "outputs": [],
   "source": [
    "import numpy as np"
   ]
  },
  {
   "cell_type": "code",
   "execution_count": 2,
   "id": "7668f1de",
   "metadata": {},
   "outputs": [],
   "source": [
    "x = [2, 4, 6, 8]\n",
    "y = [81, 93, 91, 97]"
   ]
  },
  {
   "cell_type": "code",
   "execution_count": 3,
   "id": "4be1b3ab",
   "metadata": {},
   "outputs": [
    {
     "name": "stdout",
     "output_type": "stream",
     "text": [
      "x 시간의 평균값 : 5.0\n",
      "y 시간의 평균값 : 90.5\n"
     ]
    }
   ],
   "source": [
    "mx = np.mean(x)\n",
    "my = np.mean(y)\n",
    "print(f'x 시간의 평균값 : {mx}')\n",
    "print(f'y 시간의 평균값 : {my}')"
   ]
  },
  {
   "cell_type": "code",
   "execution_count": 5,
   "id": "ab082539",
   "metadata": {},
   "outputs": [
    {
     "data": {
      "text/plain": [
       "20.0"
      ]
     },
     "execution_count": 5,
     "metadata": {},
     "output_type": "execute_result"
    }
   ],
   "source": [
    "denominator = sum([(i - mx)**2 for i in x])\n",
    "denominator"
   ]
  },
  {
   "cell_type": "code",
   "execution_count": 6,
   "id": "081060b6",
   "metadata": {},
   "outputs": [
    {
     "data": {
      "text/plain": [
       "46.0"
      ]
     },
     "execution_count": 6,
     "metadata": {},
     "output_type": "execute_result"
    }
   ],
   "source": [
    "def top(x, mx, y, my):\n",
    "    d = 0\n",
    "    for i in range(len(x)):\n",
    "        d += (x[i] - mx) * (y[i] - my)\n",
    "    return d\n",
    "\n",
    "numerator = top(x, mx, y, my)\n",
    "numerator"
   ]
  },
  {
   "cell_type": "code",
   "execution_count": 7,
   "id": "e0863290",
   "metadata": {},
   "outputs": [
    {
     "name": "stdout",
     "output_type": "stream",
     "text": [
      "분자 : 46.0\n",
      "분모 : 20.0\n"
     ]
    }
   ],
   "source": [
    "print(f'분자 : {numerator}')\n",
    "print(f'분모 : {denominator}')"
   ]
  },
  {
   "cell_type": "code",
   "execution_count": 10,
   "id": "8ea814ab",
   "metadata": {},
   "outputs": [],
   "source": [
    "w = numerator / denominator\n",
    "b = my - (mx*w)b"
   ]
  },
  {
   "cell_type": "code",
   "execution_count": 12,
   "id": "342bc779",
   "metadata": {},
   "outputs": [
    {
     "name": "stdout",
     "output_type": "stream",
     "text": [
      "x 시간의 평균값 : 5.0\n",
      "y 성적의 평균값 : 90.5\n",
      "분자 : 46.0\n",
      "분모 : 20.0\n",
      "기울기 w = 2.3\n",
      "y 절편 b = 79.0\n"
     ]
    }
   ],
   "source": [
    "print(f'x 시간의 평균값 : {mx}')\n",
    "print(f'y 성적의 평균값 : {my}')\n",
    "print(f'분자 : {numerator}')\n",
    "print(f'분모 : {denominator}')\n",
    "print(f'기울기 w = {w}')\n",
    "print(f'y 절편 b = {b}')"
   ]
  }
 ],
 "metadata": {
  "kernelspec": {
   "display_name": "Python 3",
   "language": "python",
   "name": "python3"
  },
  "language_info": {
   "codemirror_mode": {
    "name": "ipython",
    "version": 3
   },
   "file_extension": ".py",
   "mimetype": "text/x-python",
   "name": "python",
   "nbconvert_exporter": "python",
   "pygments_lexer": "ipython3",
   "version": "3.7.10"
  }
 },
 "nbformat": 4,
 "nbformat_minor": 5
}
