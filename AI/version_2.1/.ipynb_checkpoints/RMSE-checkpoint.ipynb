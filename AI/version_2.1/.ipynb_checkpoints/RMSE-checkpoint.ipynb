{
 "cells": [
  {
   "cell_type": "markdown",
   "id": "0e3a0f58",
   "metadata": {},
   "source": [
    "# 평균제곱근오차"
   ]
  },
  {
   "cell_type": "code",
   "execution_count": 24,
   "id": "21e2cb01",
   "metadata": {},
   "outputs": [],
   "source": [
    "import numpy as np"
   ]
  },
  {
   "cell_type": "code",
   "execution_count": 25,
   "id": "d76635df",
   "metadata": {},
   "outputs": [
    {
     "data": {
      "text/plain": [
       "[3, 76]"
      ]
     },
     "execution_count": 25,
     "metadata": {},
     "output_type": "execute_result"
    }
   ],
   "source": [
    "ab = [3, 76]\n",
    "ab"
   ]
  },
  {
   "cell_type": "code",
   "execution_count": 26,
   "id": "2bf8ff6d",
   "metadata": {},
   "outputs": [
    {
     "data": {
      "text/plain": [
       "[[2, 81], [4, 93], [6, 91], [8, 97]]"
      ]
     },
     "execution_count": 26,
     "metadata": {},
     "output_type": "execute_result"
    }
   ],
   "source": [
    "data = [[2, 81], [4, 93], [6, 91], [8,97]]\n",
    "data"
   ]
  },
  {
   "cell_type": "code",
   "execution_count": 27,
   "id": "19d21ea9",
   "metadata": {},
   "outputs": [],
   "source": [
    "x = [i[0] for i in data]\n",
    "y = [j[1] for j in data]"
   ]
  },
  {
   "cell_type": "code",
   "execution_count": 28,
   "id": "a2fd223f",
   "metadata": {},
   "outputs": [],
   "source": [
    "def  predict(x):\n",
    "    return ab[0]*x + ab[1]"
   ]
  },
  {
   "cell_type": "code",
   "execution_count": 29,
   "id": "fa507dca",
   "metadata": {},
   "outputs": [],
   "source": [
    "def  rmse(p, a):\n",
    "    return np.sqrt(((p-a)**2).mean())"
   ]
  },
  {
   "cell_type": "code",
   "execution_count": 30,
   "id": "a3d990b5",
   "metadata": {},
   "outputs": [],
   "source": [
    "def rmse_val(predict_result, y):\n",
    "    return rmse(np.array(predict_result), np.array(y))"
   ]
  },
  {
   "cell_type": "code",
   "execution_count": 31,
   "id": "566008c5",
   "metadata": {
    "scrolled": true
   },
   "outputs": [
    {
     "name": "stdout",
     "output_type": "stream",
     "text": [
      "공부한 시간 = 2, 실제점수 = 81, 예측 점수 = 82\n",
      "공부한 시간 = 4, 실제점수 = 93, 예측 점수 = 88\n",
      "공부한 시간 = 6, 실제점수 = 91, 예측 점수 = 94\n",
      "공부한 시간 = 8, 실제점수 = 97, 예측 점수 = 100\n"
     ]
    }
   ],
   "source": [
    "predict_result = []\n",
    "\n",
    "for i in range(len(x)):\n",
    "    predict_result.append(predict(x[i]))\n",
    "    print(f\"공부한 시간 = {x[i]}, 실제점수 = {y[i]}, 예측 점수 = {predict(x[i])}\")"
   ]
  },
  {
   "cell_type": "code",
   "execution_count": 32,
   "id": "1c575b39",
   "metadata": {},
   "outputs": [
    {
     "name": "stdout",
     "output_type": "stream",
     "text": [
      "rmse 최종값 : 8341.986214325698\n"
     ]
    }
   ],
   "source": [
    "print(f\"rmse 최종값 : {str(rmse_val(predict_result, y))}\")"
   ]
  }
 ],
 "metadata": {
  "kernelspec": {
   "display_name": "Python 3",
   "language": "python",
   "name": "python3"
  },
  "language_info": {
   "codemirror_mode": {
    "name": "ipython",
    "version": 3
   },
   "file_extension": ".py",
   "mimetype": "text/x-python",
   "name": "python",
   "nbconvert_exporter": "python",
   "pygments_lexer": "ipython3",
   "version": "3.7.10"
  }
 },
 "nbformat": 4,
 "nbformat_minor": 5
}
