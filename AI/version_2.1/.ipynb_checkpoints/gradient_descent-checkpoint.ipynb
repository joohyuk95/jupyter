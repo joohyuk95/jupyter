{
 "cells": [
  {
   "cell_type": "code",
   "execution_count": 17,
   "id": "3cda2d52",
   "metadata": {},
   "outputs": [],
   "source": [
    "import numpy as np\n",
    "import pandas as pd\n",
    "import matplotlib.pyplot as plt"
   ]
  },
  {
   "cell_type": "code",
   "execution_count": 18,
   "id": "fa9c945e",
   "metadata": {},
   "outputs": [],
   "source": [
    "data = ([2, 81], [4, 93], [6, 91], [8, 97])\n",
    "x = [i[0] for i in data]\n",
    "y = [i[1] for i in data]"
   ]
  },
  {
   "cell_type": "code",
   "execution_count": 19,
   "id": "f700d957",
   "metadata": {
    "scrolled": true
   },
   "outputs": [
    {
     "data": {
      "image/png": "[encoded data removed]",
      "text/plain": [
       "<Figure size 648x216 with 1 Axes>"
      ]
     },
     "metadata": {
      "needs_background": "light"
     },
     "output_type": "display_data"
    }
   ],
   "source": [
    "plt.figure(figsize = (9, 3))\n",
    "plt.scatter(x, y)\n",
    "plt.show()"
   ]
  },
  {
   "cell_type": "code",
   "execution_count": 20,
   "id": "7eb2d0bf",
   "metadata": {},
   "outputs": [],
   "source": [
    "x_data = np.array(x)\n",
    "y_data = np.array(y)"
   ]
  },
  {
   "cell_type": "code",
   "execution_count": 21,
   "id": "029c471e",
   "metadata": {},
   "outputs": [],
   "source": [
    "a = 3\n",
    "b = 76"
   ]
  },
  {
   "cell_type": "code",
   "execution_count": 22,
   "id": "4b44d080",
   "metadata": {},
   "outputs": [],
   "source": [
    "learning_rate = 0.01"
   ]
  },
  {
   "cell_type": "code",
   "execution_count": 7,
   "id": "66b3e441",
   "metadata": {},
   "outputs": [],
   "source": [
    "iteration = 8000"
   ]
  },
  {
   "cell_type": "code",
   "execution_count": 37,
   "id": "9072e260",
   "metadata": {},
   "outputs": [
    {
     "name": "stdout",
     "output_type": "stream",
     "text": [
      "epoch = 500, 기울기= 2.3000, 절편=79.0000\n",
      "epoch = 1000, 기울기= 2.3000, 절편=79.0000\n",
      "epoch = 1500, 기울기= 2.3000, 절편=79.0000\n",
      "epoch = 2000, 기울기= 2.3000, 절편=79.0000\n",
      "epoch = 2500, 기울기= 2.3000, 절편=79.0000\n",
      "epoch = 3000, 기울기= 2.3000, 절편=79.0000\n",
      "epoch = 3500, 기울기= 2.3000, 절편=79.0000\n",
      "epoch = 4000, 기울기= 2.3000, 절편=79.0000\n",
      "epoch = 4500, 기울기= 2.3000, 절편=79.0000\n",
      "epoch = 5000, 기울기= 2.3000, 절편=79.0000\n",
      "epoch = 5500, 기울기= 2.3000, 절편=79.0000\n",
      "epoch = 6000, 기울기= 2.3000, 절편=79.0000\n",
      "epoch = 6500, 기울기= 2.3000, 절편=79.0000\n",
      "epoch = 7000, 기울기= 2.3000, 절편=79.0000\n",
      "epoch = 7500, 기울기= 2.3000, 절편=79.0000\n",
      "epoch = 8000, 기울기= 2.3000, 절편=79.0000\n"
     ]
    },
    {
     "data": {
      "image/png": "[encoded data removed]",
      "text/plain": [
       "<Figure size 648x216 with 1 Axes>"
      ]
     },
     "metadata": {
      "needs_background": "light"
     },
     "output_type": "display_data"
    }
   ],
   "source": [
    "for i in range(iteration):\n",
    "    y_update = a * x_data + b\n",
    "    error = y_data - y_update\n",
    "    a_diff = -(1/len(x_data)) * sum(x_data * (error))\n",
    "    b_diff = -(1/len(x_data)) * sum(error)\n",
    "    a = a - (learning_rate * a_diff)\n",
    "    b = b - (learning_rate * b_diff)\n",
    "    \n",
    "    if (i + 1) <= 300:\n",
    "        print(\"epoch = %i, 기울기= %.04f, 절편=%.04f\" % (i + 1, a, b))\n",
    "    \n",
    "    elif (i + 1) % 500 == 0:\n",
    "        print(\"epoch = %i, 기울기= %.04f, 절편=%.04f\" % (i + 1, a, b))\n",
    "\n",
    "\n",
    "x_result = np.arange(x_data[0], x_data[-1], 0.1)\n",
    "y_result = a*x_result + b\n",
    "\n",
    "plt.figure(figsize = (9, 3))\n",
    "plt.scatter(x, y)\n",
    "plt.plot(x_result, y_result, color = 'red')\n",
    "plt.show()"
   ]
  }
 ],
 "metadata": {
  "kernelspec": {
   "display_name": "Python 3",
   "language": "python",
   "name": "python3"
  },
  "language_info": {
   "codemirror_mode": {
    "name": "ipython",
    "version": 3
   },
   "file_extension": ".py",
   "mimetype": "text/x-python",
   "name": "python",
   "nbconvert_exporter": "python",
   "pygments_lexer": "ipython3",
   "version": "3.7.10"
  }
 },
 "nbformat": 4,
 "nbformat_minor": 5
}
