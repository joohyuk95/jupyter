{
 "cells": [
  {
   "cell_type": "code",
   "execution_count": 12,
   "id": "714f2d50",
   "metadata": {},
   "outputs": [],
   "source": [
    "from tensorflow.keras.datasets import mnist\n",
    "from tensorflow.python.keras.utils.np_utils import to_categorical\n",
    "from tensorflow.keras.models import Sequential, load_model\n",
    "from tensorflow.keras.layers import Dense, Dropout, Flatten, Conv2D, MaxPooling2D\n",
    "from tensorflow.keras.callbacks import ModelCheckpoint, EarlyStopping\n",
    "\n",
    "import tensorflow as tf\n",
    "import numpy as np\n",
    "import os\n",
    "import matplotlib.pyplot as plt"
   ]
  },
  {
   "cell_type": "code",
   "execution_count": 2,
   "id": "df05b363",
   "metadata": {},
   "outputs": [],
   "source": [
    "seed = 0\n",
    "np.random.seed(seed)\n",
    "tf.random.set_seed(3)"
   ]
  },
  {
   "cell_type": "code",
   "execution_count": 9,
   "id": "33be99ab",
   "metadata": {},
   "outputs": [
    {
     "name": "stdout",
     "output_type": "stream",
     "text": [
      "(60000, 28, 28)\n",
      "(60000, 28, 28, 1)\n"
     ]
    }
   ],
   "source": [
    "(X_train, Y_train), (X_test, Y_test) = mnist.load_data()\n",
    "print(X_train.shape)\n",
    "X_train = X_train.reshape(X_train.shape[0], 28, 28, 1).astype('float32') / 255\n",
    "X_test = X_test.reshape(X_test.shape[0], 28, 28, 1).astype('float32') / 255\n",
    "Y_train = to_categorical(Y_train)\n",
    "Y_test = to_categorical(Y_test)\n",
    "print(X_train.shape)"
   ]
  },
  {
   "cell_type": "code",
   "execution_count": 4,
   "id": "d7972996",
   "metadata": {},
   "outputs": [],
   "source": [
    "model = Sequential()\n",
    "model.add(Conv2D(32, kernel_size=(3, 3), input_shape=(28, 28, 1), activation='relu'))\n",
    "model.add(Conv2D(64, (3, 3), activation='relu'))\n",
    "model.add(MaxPooling2D(pool_size=2))\n",
    "model.add(Dropout(0.25))\n",
    "model.add(Flatten())\n",
    "model.add(Dense(128, activation='relu'))\n",
    "model.add(Dropout(0.5))\n",
    "model.add(Dense(10, activation=\"softmax\"))"
   ]
  },
  {
   "cell_type": "code",
   "execution_count": 5,
   "id": "ef0b6fac",
   "metadata": {},
   "outputs": [],
   "source": [
    "model.compile(loss=\"categorical_crossentropy\",\n",
    "             optimizer=\"adam\",\n",
    "             metrics=['accuracy'])"
   ]
  },
  {
   "cell_type": "code",
   "execution_count": 6,
   "id": "6632bcf4",
   "metadata": {},
   "outputs": [],
   "source": [
    "MODEL_DIR = './model_cnn/'\n",
    "if not os.path.exists(MODEL_DIR):\n",
    "    os.mkdir(MODEL_DIR)\n",
    "    \n",
    "modelpath=\"./model_cnn/{epoch:02d}-{val_loss:.4f}.hdf5\"\n",
    "checkpointer = ModelCheckpoint(filepath=modelpath, monitor='val_loss', verbose=1, save_best_only=True)\n",
    "early_stopping_callback = EarlyStopping(monitor='val_loss', patience=10)"
   ]
  },
  {
   "cell_type": "code",
   "execution_count": 7,
   "id": "e1127fea",
   "metadata": {
    "scrolled": true
   },
   "outputs": [
    {
     "name": "stdout",
     "output_type": "stream",
     "text": [
      "\n",
      "Epoch 00001: val_loss improved from inf to 0.06296, saving model to ./model_cnn/01-0.0630.hdf5\n",
      "\n",
      "Epoch 00002: val_loss improved from 0.06296 to 0.03769, saving model to ./model_cnn/02-0.0377.hdf5\n",
      "\n",
      "Epoch 00003: val_loss improved from 0.03769 to 0.03152, saving model to ./model_cnn/03-0.0315.hdf5\n",
      "\n",
      "Epoch 00004: val_loss did not improve from 0.03152\n",
      "\n",
      "Epoch 00005: val_loss did not improve from 0.03152\n",
      "\n",
      "Epoch 00006: val_loss improved from 0.03152 to 0.02969, saving model to ./model_cnn/06-0.0297.hdf5\n",
      "\n",
      "Epoch 00007: val_loss did not improve from 0.02969\n",
      "\n",
      "Epoch 00008: val_loss improved from 0.02969 to 0.02825, saving model to ./model_cnn/08-0.0282.hdf5\n",
      "\n",
      "Epoch 00009: val_loss improved from 0.02825 to 0.02815, saving model to ./model_cnn/09-0.0282.hdf5\n",
      "\n",
      "Epoch 00010: val_loss did not improve from 0.02815\n",
      "\n",
      "Epoch 00011: val_loss did not improve from 0.02815\n",
      "\n",
      "Epoch 00012: val_loss improved from 0.02815 to 0.02579, saving model to ./model_cnn/12-0.0258.hdf5\n",
      "\n",
      "Epoch 00013: val_loss did not improve from 0.02579\n",
      "\n",
      "Epoch 00014: val_loss did not improve from 0.02579\n",
      "\n",
      "Epoch 00015: val_loss did not improve from 0.02579\n"
     ]
    }
   ],
   "source": [
    "history = model.fit(X_train, Y_train, validation_data = (X_test, Y_test), epochs=15, batch_size=200, verbose=0, callbacks=[early_stopping_callback, checkpointer])\n"
   ]
  },
  {
   "cell_type": "code",
   "execution_count": 18,
   "id": "f6513d78",
   "metadata": {},
   "outputs": [
    {
     "data": {
      "text/plain": [
       "(60000, 28, 28, 1)"
      ]
     },
     "execution_count": 18,
     "metadata": {},
     "output_type": "execute_result"
    }
   ],
   "source": [
    "my_model = load_model(\"./model_cnn/12-0.0258.hdf5\")\n",
    "test_data = test_data = np.array([X_train[2]], np.float32)\n",
    "result = my_model.predict_classes(test_data)\n",
    "X_train.shape"
   ]
  }
 ],
 "metadata": {
  "kernelspec": {
   "display_name": "Python 3",
   "language": "python",
   "name": "python3"
  },
  "language_info": {
   "codemirror_mode": {
    "name": "ipython",
    "version": 3
   },
   "file_extension": ".py",
   "mimetype": "text/x-python",
   "name": "python",
   "nbconvert_exporter": "python",
   "pygments_lexer": "ipython3",
   "version": "3.7.10"
  }
 },
 "nbformat": 4,
 "nbformat_minor": 5
}
