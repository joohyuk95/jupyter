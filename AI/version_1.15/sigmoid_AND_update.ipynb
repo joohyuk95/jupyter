{
 "cells": [
  {
   "cell_type": "code",
   "execution_count": 1,
   "id": "84da9210",
   "metadata": {},
   "outputs": [],
   "source": [
    "import numpy as np\n",
    "import tensorflow as tf\n",
    "tf.enable_eager_execution()       # 그래프 만들지말고 바로 결과값 반환 실행"
   ]
  },
  {
   "cell_type": "code",
   "execution_count": 2,
   "id": "dbcda22c",
   "metadata": {},
   "outputs": [],
   "source": [
    "X = np.array([\n",
    "    [0., 0.],\n",
    "    [0., 1.],\n",
    "    [1., 0.],\n",
    "    [1., 1.]            \n",
    "], dtype=\"float32\")\n",
    "\n",
    "y = np.array([\n",
    "    [0.],\n",
    "    [0.],\n",
    "    [0.],\n",
    "    [1.]\n",
    "], dtype=\"float32\")"
   ]
  },
  {
   "cell_type": "code",
   "execution_count": 3,
   "id": "f7bddb05",
   "metadata": {},
   "outputs": [],
   "source": [
    "w = np.array([[1], [2]], dtype=\"float32\")\n",
    "\n",
    "b = np.array([3], dtype=\"float32\")"
   ]
  },
  {
   "cell_type": "code",
   "execution_count": 4,
   "id": "91b8fec7",
   "metadata": {},
   "outputs": [],
   "source": [
    "def sigmoid(h):\n",
    "    return 1 / (1 + np.exp(-h))"
   ]
  },
  {
   "cell_type": "code",
   "execution_count": 5,
   "id": "3f312ddd",
   "metadata": {
    "scrolled": false
   },
   "outputs": [
    {
     "name": "stdout",
     "output_type": "stream",
     "text": [
      "epoch [  100]  w[0]:  0.7586,  w[1]:  1.7540,  b:  2.2784,  e:  2.3857\n",
      "epoch [  200]  w[0]:  0.5306,  w[1]:  1.5149,  b:  1.5894,  e:  1.8011\n",
      "epoch [  300]  w[0]:  0.3310,  w[1]:  1.2926,  b:  0.9615,  e:  1.3159\n",
      "epoch [  400]  w[0]:  0.1788,  w[1]:  1.1031,  b:  0.4265,  e:  0.9683\n",
      "epoch [  500]  w[0]:  0.0846,  w[1]:  0.9611,  b:  0.0011,  e:  0.7559\n",
      "epoch [  600]  w[0]:  0.0437,  w[1]:  0.8692,  b: -0.3237,  e:  0.6386\n",
      "epoch [  700]  w[0]:  0.0426,  w[1]:  0.8188,  b: -0.5711,  e:  0.5741\n",
      "epoch [  800]  w[0]:  0.0681,  w[1]:  0.7985,  b: -0.7637,  e:  0.5355\n",
      "epoch [  900]  w[0]:  0.1105,  w[1]:  0.7987,  b: -0.9187,  e:  0.5095\n",
      "epoch [ 1000]  w[0]:  0.1633,  w[1]:  0.8126,  b: -1.0477,  e:  0.4898\n",
      "epoch [ 1100]  w[0]:  0.2222,  w[1]:  0.8356,  b: -1.1587,  e:  0.4735\n",
      "epoch [ 1200]  w[0]:  0.2843,  w[1]:  0.8644,  b: -1.2569,  e:  0.4591\n",
      "epoch [ 1300]  w[0]:  0.3480,  w[1]:  0.8969,  b: -1.3458,  e:  0.4461\n",
      "epoch [ 1400]  w[0]:  0.4119,  w[1]:  0.9317,  b: -1.4278,  e:  0.4340\n",
      "epoch [ 1500]  w[0]:  0.4754,  w[1]:  0.9679,  b: -1.5046,  e:  0.4228\n",
      "epoch [ 1600]  w[0]:  0.5379,  w[1]:  1.0047,  b: -1.5774,  e:  0.4122\n",
      "epoch [ 1700]  w[0]:  0.5991,  w[1]:  1.0418,  b: -1.6470,  e:  0.4022\n",
      "epoch [ 1800]  w[0]:  0.6588,  w[1]:  1.0789,  b: -1.7140,  e:  0.3928\n",
      "epoch [ 1900]  w[0]:  0.7170,  w[1]:  1.1156,  b: -1.7787,  e:  0.3839\n",
      "epoch [ 2000]  w[0]:  0.7736,  w[1]:  1.1521,  b: -1.8416,  e:  0.3754\n",
      "epoch [ 2100]  w[0]:  0.8286,  w[1]:  1.1881,  b: -1.9027,  e:  0.3673\n",
      "epoch [ 2200]  w[0]:  0.8821,  w[1]:  1.2236,  b: -1.9624,  e:  0.3597\n",
      "epoch [ 2300]  w[0]:  0.9340,  w[1]:  1.2585,  b: -2.0206,  e:  0.3523\n",
      "epoch [ 2400]  w[0]:  0.9845,  w[1]:  1.2930,  b: -2.0776,  e:  0.3453\n",
      "epoch [ 2500]  w[0]:  1.0336,  w[1]:  1.3270,  b: -2.1334,  e:  0.3387\n",
      "epoch [ 2600]  w[0]:  1.0814,  w[1]:  1.3604,  b: -2.1881,  e:  0.3323\n",
      "epoch [ 2700]  w[0]:  1.1279,  w[1]:  1.3934,  b: -2.2417,  e:  0.3262\n",
      "epoch [ 2800]  w[0]:  1.1731,  w[1]:  1.4258,  b: -2.2943,  e:  0.3203\n",
      "epoch [ 2900]  w[0]:  1.2172,  w[1]:  1.4578,  b: -2.3460,  e:  0.3146\n",
      "epoch [ 3000]  w[0]:  1.2602,  w[1]:  1.4893,  b: -2.3967,  e:  0.3092\n",
      "epoch [ 3100]  w[0]:  1.3021,  w[1]:  1.5204,  b: -2.4466,  e:  0.3040\n",
      "epoch [ 3200]  w[0]:  1.3430,  w[1]:  1.5510,  b: -2.4956,  e:  0.2990\n",
      "epoch [ 3300]  w[0]:  1.3830,  w[1]:  1.5813,  b: -2.5439,  e:  0.2942\n",
      "epoch [ 3400]  w[0]:  1.4220,  w[1]:  1.6111,  b: -2.5913,  e:  0.2895\n",
      "epoch [ 3500]  w[0]:  1.4602,  w[1]:  1.6405,  b: -2.6380,  e:  0.2850\n",
      "epoch [ 3600]  w[0]:  1.4975,  w[1]:  1.6695,  b: -2.6840,  e:  0.2806\n",
      "epoch [ 3700]  w[0]:  1.5340,  w[1]:  1.6982,  b: -2.7292,  e:  0.2764\n",
      "epoch [ 3800]  w[0]:  1.5698,  w[1]:  1.7265,  b: -2.7738,  e:  0.2724\n",
      "epoch [ 3900]  w[0]:  1.6048,  w[1]:  1.7545,  b: -2.8177,  e:  0.2684\n",
      "epoch [ 4000]  w[0]:  1.6391,  w[1]:  1.7821,  b: -2.8610,  e:  0.2646\n",
      "epoch [ 4100]  w[0]:  1.6728,  w[1]:  1.8094,  b: -2.9037,  e:  0.2609\n",
      "epoch [ 4200]  w[0]:  1.7058,  w[1]:  1.8364,  b: -2.9458,  e:  0.2573\n",
      "epoch [ 4300]  w[0]:  1.7381,  w[1]:  1.8630,  b: -2.9873,  e:  0.2538\n",
      "epoch [ 4400]  w[0]:  1.7699,  w[1]:  1.8893,  b: -3.0282,  e:  0.2505\n",
      "epoch [ 4500]  w[0]:  1.8012,  w[1]:  1.9154,  b: -3.0686,  e:  0.2472\n",
      "epoch [ 4600]  w[0]:  1.8318,  w[1]:  1.9411,  b: -3.1085,  e:  0.2440\n",
      "epoch [ 4700]  w[0]:  1.8620,  w[1]:  1.9666,  b: -3.1479,  e:  0.2409\n",
      "epoch [ 4800]  w[0]:  1.8916,  w[1]:  1.9918,  b: -3.1867,  e:  0.2378\n",
      "epoch [ 4900]  w[0]:  1.9208,  w[1]:  2.0167,  b: -3.2251,  e:  0.2349\n",
      "epoch [ 5000]  w[0]:  1.9495,  w[1]:  2.0413,  b: -3.2630,  e:  0.2320\n",
      "epoch [ 5100]  w[0]:  1.9777,  w[1]:  2.0657,  b: -3.3005,  e:  0.2292\n",
      "epoch [ 5200]  w[0]:  2.0055,  w[1]:  2.0898,  b: -3.3375,  e:  0.2265\n",
      "epoch [ 5300]  w[0]:  2.0328,  w[1]:  2.1137,  b: -3.3741,  e:  0.2239\n",
      "epoch [ 5400]  w[0]:  2.0598,  w[1]:  2.1374,  b: -3.4102,  e:  0.2213\n",
      "epoch [ 5500]  w[0]:  2.0864,  w[1]:  2.1608,  b: -3.4459,  e:  0.2187\n",
      "epoch [ 5600]  w[0]:  2.1125,  w[1]:  2.1839,  b: -3.4813,  e:  0.2163\n",
      "epoch [ 5700]  w[0]:  2.1383,  w[1]:  2.2068,  b: -3.5162,  e:  0.2139\n",
      "epoch [ 5800]  w[0]:  2.1638,  w[1]:  2.2295,  b: -3.5507,  e:  0.2115\n",
      "epoch [ 5900]  w[0]:  2.1889,  w[1]:  2.2520,  b: -3.5849,  e:  0.2092\n",
      "epoch [ 6000]  w[0]:  2.2137,  w[1]:  2.2743,  b: -3.6187,  e:  0.2069\n",
      "epoch [ 6100]  w[0]:  2.2381,  w[1]:  2.2963,  b: -3.6522,  e:  0.2047\n",
      "epoch [ 6200]  w[0]:  2.2622,  w[1]:  2.3182,  b: -3.6853,  e:  0.2026\n",
      "epoch [ 6300]  w[0]:  2.2860,  w[1]:  2.3398,  b: -3.7180,  e:  0.2005\n",
      "epoch [ 6400]  w[0]:  2.3096,  w[1]:  2.3613,  b: -3.7505,  e:  0.1984\n",
      "epoch [ 6500]  w[0]:  2.3328,  w[1]:  2.3825,  b: -3.7825,  e:  0.1964\n",
      "epoch [ 6600]  w[0]:  2.3557,  w[1]:  2.4035,  b: -3.8143,  e:  0.1944\n",
      "epoch [ 6700]  w[0]:  2.3784,  w[1]:  2.4244,  b: -3.8458,  e:  0.1925\n",
      "epoch [ 6800]  w[0]:  2.4008,  w[1]:  2.4451,  b: -3.8769,  e:  0.1906\n",
      "epoch [ 6900]  w[0]:  2.4229,  w[1]:  2.4655,  b: -3.9078,  e:  0.1887\n",
      "epoch [ 7000]  w[0]:  2.4448,  w[1]:  2.4859,  b: -3.9384,  e:  0.1869\n",
      "epoch [ 7100]  w[0]:  2.4665,  w[1]:  2.5060,  b: -3.9686,  e:  0.1851\n",
      "epoch [ 7200]  w[0]:  2.4879,  w[1]:  2.5259,  b: -3.9986,  e:  0.1833\n",
      "epoch [ 7300]  w[0]:  2.5091,  w[1]:  2.5457,  b: -4.0283,  e:  0.1816\n",
      "epoch [ 7400]  w[0]:  2.5300,  w[1]:  2.5653,  b: -4.0578,  e:  0.1799\n",
      "epoch [ 7500]  w[0]:  2.5507,  w[1]:  2.5847,  b: -4.0870,  e:  0.1783\n",
      "epoch [ 7600]  w[0]:  2.5712,  w[1]:  2.6040,  b: -4.1159,  e:  0.1766\n",
      "epoch [ 7700]  w[0]:  2.5915,  w[1]:  2.6231,  b: -4.1445,  e:  0.1750\n",
      "epoch [ 7800]  w[0]:  2.6116,  w[1]:  2.6421,  b: -4.1729,  e:  0.1735\n",
      "epoch [ 7900]  w[0]:  2.6315,  w[1]:  2.6609,  b: -4.2011,  e:  0.1719\n",
      "epoch [ 8000]  w[0]:  2.6511,  w[1]:  2.6795,  b: -4.2290,  e:  0.1704\n",
      "epoch [ 8100]  w[0]:  2.6706,  w[1]:  2.6980,  b: -4.2567,  e:  0.1689\n",
      "epoch [ 8200]  w[0]:  2.6899,  w[1]:  2.7164,  b: -4.2841,  e:  0.1675\n",
      "epoch [ 8300]  w[0]:  2.7090,  w[1]:  2.7346,  b: -4.3114,  e:  0.1660\n",
      "epoch [ 8400]  w[0]:  2.7280,  w[1]:  2.7526,  b: -4.3383,  e:  0.1646\n",
      "epoch [ 8500]  w[0]:  2.7467,  w[1]:  2.7705,  b: -4.3651,  e:  0.1632\n",
      "epoch [ 8600]  w[0]:  2.7653,  w[1]:  2.7883,  b: -4.3917,  e:  0.1619\n",
      "epoch [ 8700]  w[0]:  2.7837,  w[1]:  2.8059,  b: -4.4180,  e:  0.1605\n",
      "epoch [ 8800]  w[0]:  2.8020,  w[1]:  2.8234,  b: -4.4441,  e:  0.1592\n",
      "epoch [ 8900]  w[0]:  2.8201,  w[1]:  2.8408,  b: -4.4700,  e:  0.1579\n",
      "epoch [ 9000]  w[0]:  2.8380,  w[1]:  2.8580,  b: -4.4957,  e:  0.1566\n",
      "epoch [ 9100]  w[0]:  2.8557,  w[1]:  2.8751,  b: -4.5213,  e:  0.1554\n",
      "epoch [ 9200]  w[0]:  2.8734,  w[1]:  2.8921,  b: -4.5466,  e:  0.1541\n",
      "epoch [ 9300]  w[0]:  2.8908,  w[1]:  2.9089,  b: -4.5717,  e:  0.1529\n",
      "epoch [ 9400]  w[0]:  2.9081,  w[1]:  2.9257,  b: -4.5966,  e:  0.1517\n",
      "epoch [ 9500]  w[0]:  2.9253,  w[1]:  2.9422,  b: -4.6214,  e:  0.1505\n",
      "epoch [ 9600]  w[0]:  2.9423,  w[1]:  2.9587,  b: -4.6459,  e:  0.1493\n",
      "epoch [ 9700]  w[0]:  2.9592,  w[1]:  2.9751,  b: -4.6703,  e:  0.1482\n",
      "epoch [ 9800]  w[0]:  2.9760,  w[1]:  2.9913,  b: -4.6945,  e:  0.1471\n",
      "epoch [ 9900]  w[0]:  2.9926,  w[1]:  3.0074,  b: -4.7185,  e:  0.1460\n",
      "epoch [10000]  w[0]:  3.0090,  w[1]:  3.0235,  b: -4.7423,  e:  0.1449\n",
      "\n",
      "--------------------------------\n",
      "\n",
      "\t[result]\n",
      "\tw0 =  3.0090\n",
      "\tw1 =  3.0235\n",
      "\tb = -4.7423\n",
      "\terror =  0.1449\n"
     ]
    }
   ],
   "source": [
    "learning_rate = 0.01\n",
    "\n",
    "for i in range(10000):\n",
    "    hypothesis = sigmoid(np.dot(X, w) + b)\n",
    "\n",
    "    cost = np.sum(-1/4 * (y*np.log(hypothesis) + (1 - y) * np.log(1 - hypothesis)))\n",
    "    \n",
    "    X_col_2d0 = X.T[0].reshape(1, -1)\n",
    "    w0_grad = 1/4 * np.sum(np.dot(X_col_2d0, (hypothesis - y)))\n",
    "    w0_new = w[0]-learning_rate * w0_grad\n",
    "    \n",
    "    X_col_2d1 = X.T[1].reshape(1, -1)\n",
    "    w1_grad = 1/4 * np.sum(np.dot(X_col_2d1, (hypothesis - y)))\n",
    "    w1_new = w[1]-learning_rate * w1_grad\n",
    "    \n",
    "    b_grad = 1/4 * np.sum(hypothesis - y)\n",
    "    \n",
    "    b_new = b - learning_rate * b_grad\n",
    "    \n",
    "    w[0] = w0_new\n",
    "    w[1] = w1_new\n",
    "    b = b_new\n",
    "    \n",
    "    if (i+1) % 100 == 0:\n",
    "        #print(\"epoch[{0:>4}]  w[0]= {1}, w[1]= {2}, b= {3:6.4f}, e={4:6.5f}\".format(i+1, w[0], w[1], b, cost))\n",
    "        print(\"epoch [%5d]  w[0]: %7.4f,  w[1]: %7.4f,  b: %7.4f,  e: %7.4f\"  %(i+1, w[0], w[1], b, cost))\n",
    "        # numpy class type 들은 format 함수를 활용해서 형식 지정을 할 수 없다. !!!\n",
    "print(\"\\n--------------------------------\")\n",
    "print(\"\\n\\t[result]\")\n",
    "print(\"\\tw0 = %7.4f\" %w[0])\n",
    "print(\"\\tw1 = %7.4f\" %w[1])\n",
    "print(\"\\tb = %7.4f\" %b)\n",
    "print(\"\\terror = %7.4f\" %cost)"
   ]
  },
  {
   "cell_type": "code",
   "execution_count": 6,
   "id": "fd011330",
   "metadata": {
    "scrolled": true
   },
   "outputs": [
    {
     "data": {
      "text/plain": [
       "array([[0.00864305],\n",
       "       [0.15201734],\n",
       "       [0.1501691 ],\n",
       "       [0.7841774 ]], dtype=float32)"
      ]
     },
     "execution_count": 6,
     "metadata": {},
     "output_type": "execute_result"
    }
   ],
   "source": [
    "prediction = sigmoid(np.dot(X,w)+b)\n",
    "prediction"
   ]
  },
  {
   "cell_type": "code",
   "execution_count": 7,
   "id": "57481a08",
   "metadata": {
    "scrolled": true
   },
   "outputs": [
    {
     "data": {
      "text/plain": [
       "<tf.Tensor: id=3, shape=(4, 1), dtype=bool, numpy=\n",
       "array([[ True],\n",
       "       [ True],\n",
       "       [ True],\n",
       "       [ True]])>"
      ]
     },
     "execution_count": 7,
     "metadata": {},
     "output_type": "execute_result"
    }
   ],
   "source": [
    "predicted = tf.cast(prediction > 0.5, dtype=tf.float32) # 0, 1변환\n",
    "result = tf.equal(predicted, y)  # output 과 같은지 참 거짓 변환\n",
    "result"
   ]
  },
  {
   "cell_type": "code",
   "execution_count": 8,
   "id": "537b16e2",
   "metadata": {},
   "outputs": [
    {
     "data": {
      "text/plain": [
       "1.0"
      ]
     },
     "execution_count": 8,
     "metadata": {},
     "output_type": "execute_result"
    }
   ],
   "source": [
    "accuracy = tf.reduce_mean(tf.cast(result, dtype=tf.float32))   # 참 거짓을 다시 수치로 변환하여 평균내서 정확도 계산\n",
    "accuracy.numpy()"
   ]
  },
  {
   "cell_type": "code",
   "execution_count": 12,
   "id": "753fcb1a",
   "metadata": {},
   "outputs": [
    {
     "data": {
      "text/plain": [
       "array([0., 0., 0., 1.])"
      ]
     },
     "execution_count": 12,
     "metadata": {},
     "output_type": "execute_result"
    }
   ],
   "source": [
    "arr1 = np.array([[0, 0]], dtype=\"float32\")\n",
    "arr2 = np.array([[0, 1]], dtype=\"float32\")\n",
    "arr3 = np.array([[1, 0]], dtype=\"float32\")\n",
    "arr4 = np.array([[1, 1]], dtype=\"float32\")\n",
    "\n",
    "p1 = sigmoid(np.dot(arr1,w) + b)\n",
    "p2 = sigmoid(np.dot(arr2,w) + b)\n",
    "p3 = sigmoid(np.dot(arr3,w) + b)\n",
    "p4 = sigmoid(np.dot(arr4,w) + b)\n",
    "\n",
    "p11 = tf.cast(p1 > 0.5, dtype = tf.float32)\n",
    "p22 = tf.cast(p2 > 0.5, dtype = tf.float32)\n",
    "p33 = tf.cast(p3 > 0.5, dtype = tf.float32)\n",
    "p44 = tf.cast(p4 > 0.5, dtype = tf.float32)\n",
    "\n",
    "re = np.array([])\n",
    "re = np.append(re, p11)\n",
    "re = np.append(re, p22)\n",
    "re = np.append(re, p33)\n",
    "re = np.append(re, p44)\n",
    "re"
   ]
  }
 ],
 "metadata": {
  "kernelspec": {
   "display_name": "Python 3",
   "language": "python",
   "name": "python3"
  },
  "language_info": {
   "codemirror_mode": {
    "name": "ipython",
    "version": 3
   },
   "file_extension": ".py",
   "mimetype": "text/x-python",
   "name": "python",
   "nbconvert_exporter": "python",
   "pygments_lexer": "ipython3",
   "version": "3.7.10"
  }
 },
 "nbformat": 4,
 "nbformat_minor": 5
}
